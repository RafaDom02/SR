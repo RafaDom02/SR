{
 "cells": [
  {
   "cell_type": "markdown",
   "metadata": {},
   "source": [
    "Copyright (C) 2024 Pablo Castells y Alejandro Bellogín\n",
    "\n",
    "El código que contiene este notebook se ha implementado para la realización de las prácticas de la asignatura \"Sistemas de recomendación\" del Máster en Ciencia de Datos, impartido en la Escuela Politécnica Superior de la Universidad Autónoma de Madrid. El fin del mismo, así como su uso, se ciñe a las actividades docentes de dicha asignatura."
   ]
  },
  {
   "cell_type": "markdown",
   "metadata": {
    "id": "ZKBXprvhpqQr"
   },
   "source": [
    "### **Sistemas de recomendación 2024-25**\n",
    "### Universidad Autónoma de Madrid, Escuela Politécnica Superior\n",
    "### Máster en Ciencia de Datos\n",
    "\n",
    "# Filtrado colaborativo con aprendizaje profundo: EASE, Two-Tower, Transformers\n",
    "\n",
    "Fechas:\n",
    "\n",
    "* Comienzo: martes 25 de febrero.\n",
    "* Entrega: lunes 17 de marzo, 23:59.\n",
    "\n",
    "## Objetivos\n",
    "\n",
    "Esta práctica tiene por objetivo comprender el diseño de métodos de filtrado colaborativo mediante deep learning como transición desde un modelo bilineal típico de factorización de matrices hacia modelos neuronales de complejidad arbitraria. En este bloque se desarrollarán:\n",
    "\n",
    "* Algoritmos de filtrado colaborativo basados en aprendizaje profundo.\n",
    "* Algoritmos de filtrado colaborativo orientados a datos secuenciales.\n",
    "* Métricas de evaluación de sistemas de recomendación.\n",
    "\n",
    "## Material proporcionado\n",
    "\n",
    "Al igual que en la P1, se proporcionan software y datos para la realización de la práctica:\n",
    "\n",
    "* Algunas estructuras de datos ya implementadas, para manejar datos de ratings y la salida de los recomendadores.\n",
    "* Un esqueleto de clases y funciones donde el estudiante desarrollará sus implementaciones. \n",
    "  - Se proporciona una celda de prueba al final de este notebook que deberá funcionar con las implementaciones del estudiante.\n",
    "  - Junto a la celda de prueba en este mismo notebook, se muestra como referencia un ejemplo de salida generada con una implementación de los profesores.\n",
    "* Los mismos conjuntos de datos de ratings que se usaban en la P1:\n",
    "  - Dos conjuntos de juguete para prueba y depuración: <ins>toy1.csv</ins> y <ins>toy2.csv</ins> con ratings ficticios.\n",
    "  - Un conjunto de datos reales de ratings a películas: *ml-1m.zip* disponible en la Web de [MovieLens](https://grouplens.org/datasets/movielens/1m). De los archivos disponibles, se utilizará sólamente <ins>ratings.dat</ins>, añadiéndole una cabecera `u::i::r::t`.\n",
    "  \n",
    "Los esqueletos de código que se proporcionan aquí son a modo de guía: el estudiante puede modificarlo todo libremente, siempre que la celda de prueba funcione correctamente **sin cambios**.\n",
    "\n",
    "En concreto, si para la P1 el estudiante ya hubiera hecho cambios en alguna de estas clases, puede continuar usando dichas modificaciones.\n",
    "\n",
    "La entrega consistirá en un fichero tipo *notebook* donde se incluirán todas las **implementaciones** solicitadas en cada ejercicio, así como una explicación de cada uno a modo de **memoria**.\n",
    "\n",
    "La celda de prueba deberá ejecutar sin errores a la primera con el código entregado por el estudiante (naturalmente con salvedad de los ejercicios que no se hayan implementado)."
   ]
  },
  {
   "cell_type": "markdown",
   "metadata": {
    "tags": []
   },
   "source": [
    "## Estructuras de datos: ratings y recomendaciones\n",
    "\n",
    "Se proporcionan:\n",
    "* Una clase Ratings que permite leer los datos de un fichero de texto, así como un método que genera dos particiones (de forma <b>aleatoria</b> o <b>temporal</b>) de entrenamiento y test, para evaluar y comparar la efectividad de diferentes algoritmos de recomendación.\n",
    "* Se pueden reutilizar las clases Recommender y Recommendation de la práctica anterior."
   ]
  },
  {
   "cell_type": "code",
   "execution_count": 1,
   "metadata": {
    "tags": []
   },
   "outputs": [],
   "source": [
    "import numpy as np\n",
    "import pandas as pd\n",
    "\n",
    "class Ratings:\n",
    "    def __init__(self, file=None, sep=','):\n",
    "        if file:\n",
    "            data = pd.read_csv(file, delimiter=sep, engine='python')\n",
    "            u, i, r, t = data.columns[0:4]\n",
    "            data.r = 1\n",
    "            self.m = data.pivot(index=u, columns=i, values=r).fillna(0).to_numpy(dtype=np.float32)\n",
    "            self.mt = data.pivot(index=u, columns=i, values=t).fillna(-1).to_numpy(dtype=np.float32)\n",
    "            self.uids = np.sort(data[u].unique())\n",
    "            self.iids = np.sort(data[i].unique())\n",
    "            self.uidxs = {u:j for j, u in enumerate(self.uids)}\n",
    "            self.iidxs = {i:j for j, i in enumerate(self.iids)}\n",
    "            self._nratings = (self.m > 0).sum()\n",
    "            self.data = data\n",
    "        \n",
    "    def copy(self, ratings, matrix, temp_matrix):\n",
    "        self.m = matrix\n",
    "        self.mt = temp_matrix\n",
    "        self.uids = ratings.uids\n",
    "        self.iids = ratings.iids\n",
    "        self.uidxs = ratings.uidxs\n",
    "        self.iidxs = ratings.iidxs\n",
    "        self._nratings = (matrix > 0).sum()\n",
    "        dfr = pd.DataFrame(columns=self.iids, index=self.uids, data=self.m).unstack().reset_index(name='r')\n",
    "        dfr.columns = ['i', 'u', 'r']\n",
    "        dft = pd.DataFrame(columns=self.iids, index=self.uids, data=self.mt).unstack().reset_index(name='t')\n",
    "        dft.columns = ['i', 'u', 't']\n",
    "        df_key = ['u','i']\n",
    "        df = pd.concat([dfr.set_index(df_key).squeeze(), dft.set_index(df_key).squeeze()], keys = ['r','t'],axis=1).fillna(0).reset_index()\n",
    "        self.data = df[df.r>0][['u', 'i', 'r', 't']].sort_values(by=['u', 'i'])\n",
    "        return self\n",
    "    \n",
    "    def matrix(self):\n",
    "        return self.m\n",
    "\n",
    "    def temporal_matrix(self):\n",
    "        return self.mt\n",
    "\n",
    "    def nusers(self):\n",
    "        return len(self.uids)\n",
    "    \n",
    "    def nitems(self):\n",
    "        return len(self.iids)\n",
    "    \n",
    "    # uidx can be an int or an array-like of ints.\n",
    "    def uidx_to_uid(self, uidx):\n",
    "        return self.uids[uidx]\n",
    "        \n",
    "    # iidx can be an int or an array-like of ints.\n",
    "    def iidx_to_iid(self, iidx):\n",
    "        return self.iids[iidx]\n",
    "    \n",
    "    def uid_to_uidx(self, uid):\n",
    "        return self.uidxs[uid]\n",
    "        \n",
    "    def iid_to_iidx(self, iid):\n",
    "        return self.iidxs[iid]\n",
    "        \n",
    "    def iidx_rated_by(self, uidx):\n",
    "        self.m[uidx].nonzero()\n",
    "        \n",
    "    def uidx_who_rated(self, iidx):\n",
    "        self.m[:, iidx].nonzero()\n",
    "        \n",
    "    def random_split(self, ratio):\n",
    "        mask = np.random.choice([True, False], size=self.m.shape, p=[ratio, 1-ratio])\n",
    "        train = self.m * mask\n",
    "        temp_train = self.mt * mask\n",
    "        test = self.m * ~mask\n",
    "        temp_test = self.mt * ~mask\n",
    "        return Ratings().copy(self, train, temp_train), Ratings().copy(self, test, temp_test)\n",
    "    \n",
    "    def peruser_sequence_split(self, ntestitems=1):\n",
    "        test_ids_arr = [group.sort_values(by='t', ascending=False)[['u', 'i']].to_numpy() \n",
    "                    for _, group in self.data.groupby(by='u')]\n",
    "        test_ids = []\n",
    "        for user_arr in test_ids_arr:\n",
    "            for ids in user_arr[:ntestitems]:\n",
    "                test_ids.append(ids)\n",
    "        #print(test_ids)\n",
    "        test_idx = np.array([[self.uid_to_uidx(uid), self.iid_to_iidx(iid)] for uid, iid in test_ids])\n",
    "        mask = np.ones(self.matrix().shape)\n",
    "        mask[test_idx[:, 0], test_idx[:, 1]] = 0\n",
    "        train = self.m * mask\n",
    "        temp_train = self.mt * mask\n",
    "        test = self.m * (1-mask)\n",
    "        temp_test = self.mt * (1-mask)\n",
    "        return Ratings().copy(self, train, temp_train), Ratings().copy(self, test, temp_test)\n",
    "    \n",
    "    #\n",
    "    # The remaining functions are just for debugging purposes.\n",
    "    #\n",
    "\n",
    "    def rating(self, uid, iid):\n",
    "        return self.matrix()[self.uid_to_uidx(uid), self.iid_to_iidx(iid)]\n",
    "\n",
    "    def items_rated_by(self, uid):\n",
    "        return self.iidx_to_iid(self.iidx_rated_by(self.uid_to_uidx(uid)))\n",
    "        \n",
    "    def users_who_rated(self, iid):\n",
    "        return self.uidx_to_uid(self.uidx_who_rated(self.iid_to_iidx(iid)))\n",
    "    \n",
    "    def user_ratings(self, uid):\n",
    "        iidxs = self.matrix()[self.uid_to_uidx(uid)].nonzero()[0]\n",
    "        return {self.iidx_to_iid(iidx): fround(r) for iidx, r in zip(iidxs, self.matrix()[self.uid_to_uidx(uid), iidxs])}\n",
    "\n",
    "    def item_ratings(self, iid):\n",
    "        uidxs = self.matrix()[:, self.iid_to_iidx(iid)].nonzero()[0]\n",
    "        return {self.uidx_to_uid(uidx): fround(r) for uidx, r in zip(uidxs, self.matrix()[uidxs, self.iid_to_iidx(iid)])}\n",
    "\n",
    "    def nratings(self):\n",
    "        return self._nratings\n",
    "    \n",
    "from itertools import islice\n",
    "\n",
    "# Given a matrix, returns a matrix of positions of top k values per row.\n",
    "def top_positions_per_row(m, k):\n",
    "    return np.argpartition(m, -k)[:, -k:]\n",
    "\n",
    "class Recommendation:\n",
    "    def __init__(self, scores, n, training):\n",
    "        scores = scores * (training.matrix() == 0) # Don't recommend rated items.\n",
    "        # We sort the positions in top_iidx just in order to keep the NumPy tie break by original position \n",
    "        # (i.e. by ascending object ID) when we use this function later.\n",
    "        top_iidx = np.sort(top_positions_per_row(scores, min(n, training.nitems())))\n",
    "        # We sort by -scores because NumPy sorts by ascending and we want descending.\n",
    "        self.iidx_ranking = np.take_along_axis(top_iidx, np.argsort(-np.take_along_axis(scores, top_iidx, axis=1)), axis=1)\n",
    "        self.rank_scores = np.take_along_axis(scores, self.iidx_ranking, axis=1)\n",
    "        ranked_iids = training.iidx_to_iid(self.iidx_ranking)\n",
    "        self._recommendation = {training.uidx_to_uid(uidx) : [(iid, score) for iid, score in zip(ranked_iids[uidx], self.rank_scores[uidx]) if score > 0]\n",
    "                                for uidx in range(training.nusers())}\n",
    "\n",
    "    def ranked_iidx(self):\n",
    "        return self.iidx_ranking\n",
    "        \n",
    "    def recommendation(self, uid):\n",
    "        return self._recommendation[uid]\n",
    "        \n",
    "    # This function is for debuggind purposes.\n",
    "    # Format the recommendation as a string for the first n users. Trim scores to 4 decimal digits.\n",
    "    def display(self, n):\n",
    "        r = ''\n",
    "        for uid in islice(self._recommendation, n):\n",
    "            r += f'    User {uid} -> <' \n",
    "            for iid, score in self.recommendation(uid): \n",
    "                r += f'{iid}:{str(fround(score, 4))} '\n",
    "            r = (r[:-1] + '>\\n') if len(self.recommendation(uid)) > 0 else r + 'empty>\\n'\n",
    "        return r[:-1]\n",
    "    \n",
    "class Recommender():\n",
    "    def __init__(self, training):\n",
    "        self.training = training\n",
    "\n",
    "    def __repr__(self):\n",
    "        return type(self).__name__\n",
    "\n",
    "    def recommend(self, n):\n",
    "        return Recommendation(self.scores, n, self.training)\n",
    "\n",
    "# Just for pretty-printing numbers.\n",
    "def fround(x, n=20):\n",
    "    r = round(x)\n",
    "    rn = round(x, n)\n",
    "    return r if rn == r else rn\n",
    " "
   ]
  },
  {
   "cell_type": "markdown",
   "metadata": {},
   "source": [
    "## Ejercicio 1: EASE\n",
    "\n",
    "Implementar un modelo de filtrado colaborativo lineal basado en autoencoders.\n",
    "\n",
    "Observación: el parámetro _threshold_ indica a partir de qué valor se binariza la matriz de entrada, es decir, qué valores se consideran como positivos o negativos."
   ]
  },
  {
   "cell_type": "code",
   "execution_count": 2,
   "metadata": {},
   "outputs": [],
   "source": [
    "class Ease(Recommender):\n",
    "    def __init__(self, training, l=20, threshold=3):\n",
    "        super().__init__(training)\n",
    "        X = training.matrix()\n",
    "        \n",
    "        # Aplicar el umbral: convierte en 0 las interacciones con valores < threshold\n",
    "        X = np.where(X >= threshold, X, 0)\n",
    "        \n",
    "        G = X.T @ X  # Matriz de covarianza\n",
    "        diag_indices = np.diag_indices_from(G)\n",
    "        G[diag_indices] += l  # Regularización L2\n",
    "        \n",
    "        P = np.linalg.inv(G)  # Inversa de la matriz regularizada\n",
    "        B = -P / np.diag(P)[:, None]  # Obtención de los pesos del modelo\n",
    "        B[diag_indices] = 0  # Evitar la auto-referencia en la predicción\n",
    "        \n",
    "        self.scores = X @ B\n"
   ]
  },
  {
   "cell_type": "markdown",
   "metadata": {},
   "source": [
    "### Ejercicio 1 &ndash; Explicación/documentación\n",
    "\n",
    "(por hacer)"
   ]
  },
  {
   "cell_type": "markdown",
   "metadata": {},
   "source": [
    "## Ejercicio 2: Factorización de matrices: modelo deep learning\n",
    "\n",
    "Como alternativa a la implementación realizada en la P1 del modelo de factorización de matrices, en esta práctica vas a reformular esa implementación como un caso particular \"degenerado\" de arquitectura neuronal."
   ]
  },
  {
   "cell_type": "markdown",
   "metadata": {},
   "source": [
    "### Implementación en TensorFlow\n",
    "\n",
    "Completar los huecos marcados con `# Your code here...`.\n",
    "\n",
    "Observaciones:\n",
    "* Por la estructura de datos de entrenamiento que maneja TensorFlow, entrenar con toda la matriz de ratings (incluyendo todas las celdas sin dato) es demasiado costoso. Por ello se tomará una muestra pequeña de ejemplos negativos en cada época.\n",
    "* En el esqueleto que aquí se proporciona, no se genera la traza (curva) de P@10 durante el entrenamiento ya que no encaja fácilmente en el API Keras de TensorFlow."
   ]
  },
  {
   "cell_type": "code",
   "execution_count": 3,
   "metadata": {
    "tags": []
   },
   "outputs": [
    {
     "name": "stderr",
     "output_type": "stream",
     "text": [
      "c:\\Users\\User\\Desktop\\Master\\SR\\.venv\\Lib\\site-packages\\tqdm\\auto.py:21: TqdmWarning: IProgress not found. Please update jupyter and ipywidgets. See https://ipywidgets.readthedocs.io/en/stable/user_install.html\n",
      "  from .autonotebook import tqdm as notebook_tqdm\n"
     ]
    }
   ],
   "source": [
    "import tensorflow as tf\n",
    "from tqdm.keras import TqdmCallback\n",
    "import time, datetime\n",
    "import matplotlib.pyplot as plt\n",
    "\n",
    "class DLMFRecommender(Recommender):\n",
    "    def __init__(self, training, k=50, lrate=0.01, nepochs=150, neg=4):\n",
    "        super().__init__(training)\n",
    "        # Create the model - this will directly trigger training.        \n",
    "        tf.random.set_seed(0) # For comparability and debugging (the randomness here is in parameter initialization).\n",
    "        self.model, self.hist = self.create_model(training, k, lrate, neg, nepochs)\n",
    "        # Plot the training error and report the final test metric value (P@10).\n",
    "        # Your code here...\n",
    "        plt.figure()\n",
    "        plt.plot(self.hist.history['loss'])\n",
    "        plt.title('Training Error')\n",
    "        plt.xlabel('Epoch')\n",
    "        plt.ylabel('Loss (MSE)')\n",
    "        plt.show()\n",
    "\n",
    "        uexplode = np.full((training.nitems(), training.nusers()), np.arange(training.nusers())).T.flatten()\n",
    "        iexplode = np.full((training.nusers(), training.nitems()), np.arange(training.nitems())).flatten()\n",
    "        self.scores = self.model.predict([uexplode, iexplode], batch_size=training.nusers()*100, \n",
    "                            verbose=1).reshape(training.nusers(), training.nitems())\n",
    "\n",
    "    def create_model(self, ratings, k, lrate, neg, nepochs):\n",
    "        # 'users' is an input layer of type tf.int64.\n",
    "        users = tf.keras.layers.Input(shape=(), dtype=tf.int64, name=\"users\")\n",
    "        user_embeddings = tf.keras.layers.Embedding(\n",
    "                                input_dim=ratings.nusers(),\n",
    "                                output_dim=k,\n",
    "                                name=\"user_embedding\"\n",
    "                            )(users)\n",
    "        # 'items' is an input layer of type tf.int64.\n",
    "        items = tf.keras.layers.Input(shape=(), dtype=tf.int64, name=\"items\")\n",
    "        item_embeddings = tf.keras.layers.Embedding(\n",
    "                                input_dim=ratings.nitems(),\n",
    "                                output_dim=k,\n",
    "                                name=\"item_embedding\"\n",
    "                            )(items)\n",
    "        # TensorFlow has a built-in dot-product layer.\n",
    "        dot = tf.keras.layers.Dot(axes=1, normalize=False)([user_embeddings, item_embeddings])\n",
    "        # Now we need a generic model that wraps up the \"network\", specifying the input and output layers.\n",
    "        model = tf.keras.Model(inputs=[users, items], outputs=dot)\n",
    "\n",
    "        # Compile the model: Adam optimizer is suggested here over SGD.\n",
    "        model.compile(\n",
    "            optimizer=tf.keras.optimizers.Adam(learning_rate=lrate),\n",
    "            loss='mse'\n",
    "        )\n",
    "\n",
    "        # Show the model topology\n",
    "        model.summary()\n",
    "        tf.keras.utils.plot_model(model, show_shapes=True, dpi=150)\n",
    "        \n",
    "        hist = self.train_model(ratings, model, neg, nepochs)\n",
    "        return model, hist\n",
    "\n",
    "    def train_model(self, ratings, tf_mf, neg, nepochs):\n",
    "        # We inject 'neg' negative samples for every available rating in the training data\n",
    "        nneg = neg * ratings.nratings()\n",
    "        user_ids = np.concatenate(([ratings.uid_to_uidx(u) for u in ratings.data.u], np.random.choice(list(ratings.uidxs.values()), size=nneg)))\n",
    "        item_ids = np.concatenate(([ratings.iid_to_iidx(u) for u in ratings.data.i], np.random.choice(list(ratings.iidxs.values()), size=nneg)))\n",
    "        rs = ratings.matrix()[user_ids, item_ids]\n",
    "        batch_size = ratings.nratings() + nneg # Single batch with all the data at once.\n",
    "        \n",
    "        # Your code here... to actually do the training\n",
    "        hist = tf_mf.fit(\n",
    "            x=[user_ids, item_ids],\n",
    "            y=rs,\n",
    "            epochs=nepochs,\n",
    "            batch_size=batch_size,\n",
    "            verbose=0,\n",
    "            callbacks=[TqdmCallback(verbose=0)]\n",
    "        ) # Produces a prettier progress bar.\n",
    "        return hist"
   ]
  },
  {
   "cell_type": "markdown",
   "metadata": {
    "id": "r3YGEGm7haop",
    "tags": []
   },
   "source": [
    "### Ejercicio 2 &ndash; Explicación/documentación\n",
    "\n",
    "(por hacer)"
   ]
  },
  {
   "cell_type": "markdown",
   "metadata": {
    "id": "r3ti8qGedgNB",
    "tags": []
   },
   "source": [
    "## Ejercicio 3: Implementación modelo Two-Tower\n",
    "\n",
    "Implementar tu propia versión de un modelo Two-Tower a partir de la arquitectura implementada de MF en el ejercicio anterior. "
   ]
  },
  {
   "cell_type": "code",
   "execution_count": 4,
   "metadata": {
    "id": "wzZ-6OG0dvwX",
    "tags": []
   },
   "outputs": [],
   "source": [
    "class TwoTowerRecommender(DLMFRecommender):\n",
    "    def create_model(self, ratings, k, lrate, neg, nepochs):\n",
    "        # Torre de usuarios:\n",
    "        users = tf.keras.layers.Input(shape=(), dtype=tf.int64, name=\"users\")\n",
    "        user_embedding = tf.keras.layers.Embedding(\n",
    "            input_dim=ratings.nusers(),\n",
    "            output_dim=k,\n",
    "            name=\"user_embedding\"\n",
    "        )(users)\n",
    "        # Aplanamos el embedding y agregamos una capa densa para transformar la representación\n",
    "        user_vector = tf.keras.layers.Flatten()(user_embedding)\n",
    "        user_dense = tf.keras.layers.Dense(k, activation=\"relu\", name=\"user_dense\")(user_vector)\n",
    "        \n",
    "        # Torre de ítems:\n",
    "        items = tf.keras.layers.Input(shape=(), dtype=tf.int64, name=\"items\")\n",
    "        item_embedding = tf.keras.layers.Embedding(\n",
    "            input_dim=ratings.nitems(),\n",
    "            output_dim=k,\n",
    "            name=\"item_embedding\"\n",
    "        )(items)\n",
    "        item_vector = tf.keras.layers.Flatten()(item_embedding)\n",
    "        item_dense = tf.keras.layers.Dense(k, activation=\"relu\", name=\"item_dense\")(item_vector)\n",
    "        \n",
    "        # Combinación de las dos torres mediante producto punto:\n",
    "        dot = tf.keras.layers.Dot(axes=1, normalize=False, name=\"dot_product\")([user_dense, item_dense])\n",
    "        \n",
    "        # Definición y compilación del modelo:\n",
    "        model = tf.keras.Model(inputs=[users, items], outputs=dot)\n",
    "        model.compile(optimizer=tf.keras.optimizers.Adam(learning_rate=lrate), loss='mse')\n",
    "        \n",
    "        # Mostrar la arquitectura y generar el gráfico del modelo:\n",
    "        model.summary()\n",
    "        tf.keras.utils.plot_model(model, show_shapes=True, dpi=150)\n",
    "        \n",
    "        # Entrenamiento del modelo (utilizando el método heredado train_model)\n",
    "        hist = self.train_model(ratings, model, neg, nepochs)\n",
    "        return model, hist\n"
   ]
  },
  {
   "cell_type": "markdown",
   "metadata": {},
   "source": [
    "### Ejercicio 3 &ndash; Explicación/documentación\n",
    "\n",
    "(por hacer)"
   ]
  },
  {
   "cell_type": "markdown",
   "metadata": {
    "id": "fVzsIg0Zev7a",
    "tags": []
   },
   "source": [
    "## Ejercicio 4: Recomendación secuencial [ACTUALIZADO 3 de Marzo]\n",
    "\n",
    "Vas a implementar tu propia versión de un modelo basado en Transformers, en concreto, la del algoritmo SASRec, que incluye un embedding posicional y un modelo causal en la capa de atención.\n",
    "\n",
    "Para ello, puedes revisar la siguiente implementación de un modelo basado en GRU, aunque tu versión puede hacer un procesamiento por lotes mucho más sencillo (aquí se han hecho los mismos mini-lotes en paralelo que en la propuesta original)."
   ]
  },
  {
   "cell_type": "code",
   "execution_count": 5,
   "metadata": {},
   "outputs": [],
   "source": [
    "class SessionDataset:\n",
    "      def __init__(self, df, n):\n",
    "          self.df = df.sort_values(by = ['s', 't']).reset_index(drop = True)\n",
    "          self.offsets    = np.concatenate((np.zeros(1, dtype = np.int32), self.df.groupby('s').size().cumsum().values))\n",
    "          self.n_sessions = len(self.offsets) - 1\n",
    "          self.item_to_id = {item : i for i, item in enumerate(self.df.i.unique())}\n",
    "          self.n_items = len(self.item_to_id)\n",
    "          self.n = n\n",
    "\n",
    "      def item_to_one_hot(self, item):\n",
    "          return tf.one_hot(self.item_to_id[item], depth = self.n)\n",
    "\n",
    "      def extract_session(self, i, one_hot_encoded = True):\n",
    "          session = self.df[self.offsets[i]:self.offsets[i+1]].copy()\n",
    "          if one_hot_encoded:\n",
    "              session.loc[:, 'i'] = session.i.apply(lambda x : self.item_to_one_hot(x))\n",
    "          return session.i.values.tolist()\n",
    "\n",
    "def from_ratings_to_sessions(ratings, session_size):\n",
    "    ratings_sorted = ratings.data.sort_values(by=[\"u\", \"t\"])\n",
    "    data_sessions = []\n",
    "    cur_session = 0\n",
    "    cur_session_length = 0\n",
    "    cur_user = None\n",
    "    def my_fun(row):\n",
    "        nonlocal data_sessions\n",
    "        nonlocal cur_session\n",
    "        nonlocal cur_session_length\n",
    "        nonlocal cur_user\n",
    "\n",
    "        if not cur_user:\n",
    "            cur_user = row.u\n",
    "        if row.u != cur_user:\n",
    "            cur_user = row.u\n",
    "            cur_session += 1\n",
    "            cur_session_length = 0\n",
    "        if row.u == cur_user:\n",
    "            cur_session_length += 1\n",
    "        data_sessions.append(cur_session)\n",
    "        if session_size and cur_session_length >= session_size:\n",
    "            cur_session += 1\n",
    "            cur_session_length = 0\n",
    "\n",
    "    ratings_sorted.apply(my_fun, axis=1)\n",
    "    sessions = pd.DataFrame(\n",
    "        data={\n",
    "            \"u\": ratings_sorted.u,\n",
    "            \"i\": ratings_sorted.i,\n",
    "            \"r\": ratings_sorted.r,\n",
    "            \"t\": ratings_sorted.t,\n",
    "            \"s\": data_sessions,\n",
    "        }\n",
    "    )\n",
    "    return sessions\n",
    "\n",
    "class GRU4RecRecommender(Recommender):\n",
    "    def __init__(self, training, k=50, nepochs=150, steps_per_epoch=100, ngru_layers=1, batch_size=8, session_length=5, compute_final=False):\n",
    "        super().__init__(training)\n",
    "        # Create the model - this will directly trigger training.        \n",
    "        tf.random.set_seed(0) # For comparability and debugging (the randomness here is in parameter initialization).\n",
    "        dataset = SessionDataset(from_ratings_to_sessions(training, session_length), training.nitems())\n",
    "        self.tf_mf, self.hist = self.create_model(dataset, training.nitems(), k, nepochs, steps_per_epoch, ngru_layers, batch_size)\n",
    "        # Since the network is stateful, the batch size cannot be modified (at least in Keras), so we must always predict batch_size elements at once.\n",
    "        n_classes = training.nitems()\n",
    "        # se deberían calcular los estados ocultos para todas las sesiones, pero tarda mucho\n",
    "        # idealmente, se podría paralelizar este cálculo\n",
    "        if compute_final:\n",
    "            final_states = self._calculate_final_states(dataset, self.tf_mf, ngru_layers, k, batch_size, n_classes)\n",
    "        self._reset_hidden(self.tf_mf, 0)\n",
    "        y_pred = np.empty(shape = (dataset.n_sessions, n_classes))\n",
    "        y_pred[:] = None\n",
    "        X = np.empty(shape = (batch_size, 1, n_classes))\n",
    "        next_session_id = 0\n",
    "        for batch_id in range(dataset.n_sessions // batch_size):\n",
    "            # X contains the penultimate item in the session (= last item in the training set)\n",
    "            X[:] = None\n",
    "            for i in range(batch_size):\n",
    "                X[i, :] = dataset.extract_session(next_session_id)[-1]\n",
    "                next_session_id += 1\n",
    "            nlg = 0\n",
    "            for nl, layer in enumerate(self.tf_mf.layers):\n",
    "                if self._is_GRU_layer(layer):\n",
    "                    self.tf_mf.layers[nl].reset_states()\n",
    "                    nlg += 1\n",
    "            # objective: predict last element in the session\n",
    "            y_pred[batch_id * batch_size : (batch_id + 1) * batch_size, :] = self.tf_mf.predict(X, verbose = 0)[:batch_size]\n",
    "\n",
    "        y_pred = tf.constant(y_pred[:dataset.n_sessions], dtype = tf.float32)\n",
    "        # recover predictions as item scores for each user for classical recommendation (this should not be done in general, but perform a sequential evaluation)\n",
    "        self.scores = y_pred.numpy()\n",
    "\n",
    "    def create_model(self, dataset, n_classes, k, nepochs, steps_per_epoch, ngru_layers, batch_size):\n",
    "        model = tf.keras.models.Sequential(name=\"GRU4Rec\")\n",
    "        for i in range(ngru_layers):\n",
    "            model.add(tf.keras.layers.GRU(name = 'GRU_{}'.format(i+1),\n",
    "                                          units      = k, \n",
    "                                          activation = 'relu', \n",
    "                                          stateful   = True,\n",
    "                                          return_sequences = (i < ngru_layers - 1)))\n",
    "        model.add(tf.keras.layers.Dense(units = n_classes, activation = 'linear'))   # class logits\n",
    "\n",
    "        # track top 3 accuracy (= how often the true item is among the top 3 recommended)\n",
    "        top3accuracy = lambda y_true, y_pred: tf.keras.metrics.top_k_categorical_accuracy(y_true, y_pred, k = 3)\n",
    "        top3accuracy.__name__ = 'top3accuracy'\n",
    "        model.compile(loss = GRU4RecRecommender._TOP1, optimizer = 'adam', metrics = ['accuracy', top3accuracy])\n",
    "\n",
    "        model.build(input_shape = (batch_size, 1, n_classes))\n",
    "        print(model.summary())\n",
    "        \n",
    "        hist = self.train_model(dataset, model, n_classes, batch_size, nepochs, steps_per_epoch)\n",
    "        return model, hist\n",
    "    \n",
    "    def train_batch_generator(self, model, dataset, batch_size, n_classes):\n",
    "        ixs = np.arange(dataset.n_sessions)\n",
    "\n",
    "        stacks = [[]] * batch_size   # stacks containing batch_size REVERSED (pieces of) sessions at once. Will be emptied progressively\n",
    "        next_session_id = 0\n",
    "\n",
    "        X, y = np.empty(shape = (batch_size, 1, n_classes)), np.empty(shape = (batch_size, n_classes)) \n",
    "        while True:\n",
    "            X[:], y[:] = None, None\n",
    "            for i in range(batch_size): # fill in X, y (current batch)\n",
    "                # 1. If stack i is empty (only happens at first round) or has only one element: fill it with a new session\n",
    "                if len(stacks[i]) <= 1:\n",
    "                    while not len(stacks[i]) >= 2:   # ignore sessions with only one element (cannot contribute to the training)\n",
    "                        stacks[i] = dataset.extract_session(ixs[next_session_id])[::-1]  # the data does not have to be all in memory at the same time: we could e.g. load a session at once\n",
    "                        next_session_id += 1\n",
    "                        if next_session_id >= dataset.n_sessions: # no more sessions available: shuffle sessions and restart\n",
    "                            np.random.shuffle(ixs)\n",
    "                            next_session_id = 0\n",
    "                    self._reset_hidden(model, i)   # if session changes, the corresponding hidden state must be reset\n",
    "                # 2. Stack i is now valid: set input + target variables\n",
    "                X[i, 0] = stacks[i].pop()\n",
    "                y[i]    = stacks[i][-1]\n",
    "\n",
    "            yield tf.constant(X, dtype = tf.float32), tf.constant(y, dtype = tf.float32)\n",
    "\n",
    "    def _reset_hidden(self, model, i):\n",
    "        for nl, layer in enumerate(model.layers):   # session has changed: reset corresponding hidden state\n",
    "            if self._is_GRU_layer(layer) and layer.states[0] is not None:\n",
    "                hidden_updated = layer.states[0].numpy()\n",
    "                hidden_updated[i, :] = 0.\n",
    "                model.layers[nl].reset_states()\n",
    "\n",
    "    def _is_GRU_layer(self, layer):\n",
    "        return layer.name.startswith('GRU_')\n",
    "\n",
    "    def train_model(self, dataset, model, n_classes, batch_size, nepochs, steps_per_epoch):\n",
    "        hist = model.fit(self.train_batch_generator(model, dataset, batch_size, n_classes), \n",
    "                            steps_per_epoch = steps_per_epoch, \n",
    "                            epochs          = nepochs,\n",
    "                            callbacks       = [TqdmCallback(verbose=0)], \n",
    "                            shuffle         = False)\n",
    "        return hist\n",
    "    \n",
    "    def _TOP1(y_true, y_pred):\n",
    "        _y_pred = tf.expand_dims(y_pred, axis = -1)\n",
    "        mat = tf.matmul(tf.expand_dims(tf.ones_like(y_true), -1), tf.expand_dims(y_true, axis = 1))\n",
    "        score_diffs = tf.matmul(mat, _y_pred)\n",
    "        score_diffs = tf.squeeze(score_diffs - _y_pred, -1)\n",
    "        loss_by_sample = tf.reduce_sum(tf.nn.sigmoid(tf.square(y_pred)), axis = -1) + \\\n",
    "                          tf.reduce_sum(tf.sigmoid(-score_diffs), axis = -1) + \\\n",
    "                        -tf.squeeze(tf.squeeze(tf.nn.sigmoid(tf.square(tf.matmul(tf.expand_dims(y_true, 1), _y_pred))), -1), -1)\n",
    "        return tf.reduce_sum(loss_by_sample)\n",
    "\n",
    "    def _calculate_final_states(self, dataset, model, n_layers, n_hidden, batch_size, n_classes):\n",
    "        final_states = np.empty(shape = (dataset.n_sessions, n_layers, n_hidden)) # final states will be stored here\n",
    "        final_states[:] = None\n",
    "        done = [False] * dataset.n_sessions   # keep track of the sessions for which the last state has already been calculated\n",
    "\n",
    "        stacks = [dataset.extract_session(i)[::-1] for i in range(batch_size)]\n",
    "        next_session_id = batch_size\n",
    "        batch_idx_to_session = np.arange(batch_size)   # keep track of which session is in each batch element\n",
    "        X = np.empty(shape = (batch_size, 1, n_classes))\n",
    "\n",
    "        self._reset_hidden(model, 0)\n",
    "        n_done = 0\n",
    "        while n_done < dataset.n_sessions:\n",
    "            for i in range(batch_size):\n",
    "                while len(stacks[i]) == 1:  # stack i is at the end\n",
    "                    if not done[batch_idx_to_session[i]]:\n",
    "                        # save final hidden state\n",
    "                        final_states[batch_idx_to_session[i], :] = np.array([layer.states[0][i, :] for layer in model.layers if self._is_GRU_layer(layer)])\n",
    "                        done[batch_idx_to_session[i]] = True\n",
    "                        n_done += 1\n",
    "                        if n_done % 1000 == 0:\n",
    "                            print(\"Progress: {} / {}\".format(n_done, dataset.n_sessions))\n",
    "                    if next_session_id >= dataset.n_sessions: # restart from the beginning (just to reach required batch size)\n",
    "                        next_session_id = 0\n",
    "                    stacks[i] = dataset.extract_session(next_session_id)[::-1]\n",
    "                    batch_idx_to_session[i] = next_session_id\n",
    "                    next_session_id += 1\n",
    "                    self._reset_hidden(model, i)   # session has changed --> reset corresponding hidden state\n",
    "                X[i, 0] = stacks[i].pop()\n",
    "\n",
    "            _ = model.predict(X, verbose = 0)   # hidden states get updated when \"predict\" is called\n",
    "        \n",
    "        return final_states\n"
   ]
  },
  {
   "cell_type": "code",
   "execution_count": 6,
   "metadata": {},
   "outputs": [],
   "source": [
    "\n",
    "def from_ratings_to_sequences(ratings):\n",
    "    ratings_sorted = ratings.data.sort_values(by=[\"u\", \"t\"])\n",
    "    data_sequences = {}\n",
    "    cur_sequence = 0\n",
    "    cur_user = None\n",
    "    def my_fun(row):\n",
    "        nonlocal data_sequences\n",
    "        nonlocal cur_sequence\n",
    "        nonlocal cur_user\n",
    "\n",
    "        if not cur_user:\n",
    "            cur_user = row.u\n",
    "            data_sequences[cur_sequence] = []\n",
    "        if row.u != cur_user:\n",
    "            cur_user = row.u\n",
    "            cur_sequence += 1\n",
    "            data_sequences[cur_sequence] = []\n",
    "        # append item, but also transform it into index instead of using its id\n",
    "        data_sequences[cur_sequence].append(ratings.iid_to_iidx(row.i))\n",
    "\n",
    "    ratings_sorted.apply(my_fun, axis=1)\n",
    "    return data_sequences\n",
    "\n",
    "class PositionalEmbedding(tf.keras.Layer):\n",
    "    def __init__(self, sequence_length, output_dim, **kwargs):\n",
    "        super().__init__(**kwargs)\n",
    "        self.position_embeddings = tf.keras.layers.Embedding(\n",
    "            input_dim=sequence_length, output_dim=output_dim\n",
    "        )\n",
    "        self.sequence_length = sequence_length\n",
    "        self.output_dim = output_dim\n",
    "\n",
    "    def call(self, inputs):\n",
    "        length = tf.shape(inputs)[1]\n",
    "        positions = tf.range(start=0, limit=length, delta=1)\n",
    "        embedded_positions = self.position_embeddings(positions)\n",
    "        return inputs + embedded_positions\n",
    "\n",
    "\n",
    "class TransformerRecommender(Recommender):\n",
    "    def __init__(self, training, batch_size=32, dim=128, num_heads=4, nlayers=2, max_len=50, dropout=0.1, nepochs=5, steps_per_epoch=100):\n",
    "        super().__init__(training)\n",
    "        self.max_len = max_len\n",
    "        # Create the model - this will directly trigger training.\n",
    "        tf.random.set_seed(0) # For comparability and debugging (the randomness here is in parameter initialization).\n",
    "        dataset = from_ratings_to_sequences(training)\n",
    "        self.model, self.hist = self.create_model(dataset, training.nitems(), batch_size, dim, num_heads, nlayers, max_len, dropout, nepochs, steps_per_epoch)\n",
    "\n",
    "        padded_sequences = []\n",
    "        for sequence in dataset.values():\n",
    "            # Your code here...\n",
    "            if len(sequence) < self.max_len + 1:\n",
    "                padded = [0] * (self.max_len + 1 - len(sequence)) + sequence\n",
    "            else:\n",
    "                padded = sequence[-(self.max_len + 1):]\n",
    "            # Se utiliza la parte de entrada (todos los tokens excepto el último)\n",
    "            padded_sequences.append(padded[:-1])\n",
    "\n",
    "        input_tensor = tf.constant(padded_sequences, dtype=tf.float32)\n",
    "        logits =  self.model(input_tensor) # Your code here...\n",
    "        scores =  tf.nn.softmax(logits, axis=-1) # Your code here...\n",
    "        # EliminaMOS la primera columna correspondiente al token de padding.\n",
    "        scores = scores[:, 1:]\n",
    "        self.scores = scores.numpy()\n",
    "\n",
    "    def create_model(self, ratings, nitems, batch_size, dim=128, num_heads=4, nlayers=2, max_len=50, dropout=0.1, nepochs=10, steps_per_epoch=100):\n",
    "        inputs = tf.keras.Input(shape=(max_len,))\n",
    "        x = tf.keras.layers.Embedding(nitems + 1, dim, mask_zero=True)(inputs)\n",
    "        x = PositionalEmbedding(max_len, dim)(x) # Your code here...\n",
    "\n",
    "        for _ in range(nlayers):\n",
    "            x_norm = tf.keras.layers.LayerNormalization(epsilon=1e-6)(x)\n",
    "            # Usamos max_len ya que es una constante conocida\n",
    "            causal_mask = tf.linalg.band_part(tf.ones((max_len, max_len)), -1, 0)\n",
    "            # Llamar a la capa MultiHeadAttention pasando la máscara\n",
    "            attn_output = tf.keras.layers.MultiHeadAttention(\n",
    "                num_heads=num_heads, key_dim=dim, dropout=dropout\n",
    "            )(x_norm, x_norm, attention_mask=causal_mask) # Your code here...\n",
    "            x = tf.keras.layers.Add()([x, attn_output])\n",
    "            x = tf.keras.layers.Dropout(dropout)(x)\n",
    "\n",
    "            x_norm = tf.keras.layers.LayerNormalization(epsilon=1e-6)(x)\n",
    "            ffn_output = tf.keras.layers.Dense(dim * 4, activation='relu')(x_norm) # Your code here...\n",
    "            ffn_output = tf.keras.layers.Dense(dim)(ffn_output) # Your code here...\n",
    "            x = tf.keras.layers.Add()([x, ffn_output])\n",
    "            x = tf.keras.layers.Dropout(dropout)(x)\n",
    "\n",
    "        outputs = tf.keras.layers.Dense(nitems + 1, activation='linear')(x[:, -1, :]) # Your code here...\n",
    "\n",
    "        model = tf.keras.Model(inputs=inputs, outputs=outputs, name=\"Transformer\")\n",
    "        # Compile the model: Adam optimizer and SparseCategoricalCrossentropy as loss\n",
    "        # Your code here...\n",
    "        model.compile(\n",
    "            optimizer=tf.keras.optimizers.Adam(),\n",
    "            loss=tf.keras.losses.SparseCategoricalCrossentropy(from_logits=True),\n",
    "            metrics=['accuracy']\n",
    "        )\n",
    "        print(model.summary())\n",
    "        tf.keras.utils.plot_model(model, show_shapes=True, dpi=150)\n",
    "\n",
    "        hist = self.train_model(ratings, model, batch_size, nepochs, steps_per_epoch)\n",
    "        return model, hist\n",
    "\n",
    "    def train_batch_generator(self, dataset, batch_size):\n",
    "        # Convertir el diccionario de secuencias en una lista\n",
    "        sequences = list(dataset.values())\n",
    "        n_sequences = len(sequences)\n",
    "        pointer = 0\n",
    "        # Función auxiliar para hacer padding a cada secuencia (se espera que el target sea el último token)\n",
    "        def pad_sequence(seq, target_length):\n",
    "            if len(seq) < target_length:\n",
    "                return [0] * (target_length - len(seq)) + seq\n",
    "            else:\n",
    "                return seq[-target_length:]\n",
    "        \n",
    "        while True:\n",
    "            X_batch = []\n",
    "            Y_batch = []\n",
    "            for i in range(batch_size):\n",
    "                seq = sequences[pointer]\n",
    "                pointer += 1\n",
    "                if pointer >= n_sequences:\n",
    "                    pointer = 0\n",
    "                    np.random.shuffle(sequences)\n",
    "                # Se requiere que cada ejemplo tenga longitud max_len+1 para separar input y target.\n",
    "                padded = pad_sequence(seq, self.max_len + 1)\n",
    "                # X: los primeros max_len tokens; Y: el token siguiente (último token)\n",
    "                X_batch.append(padded[:-1])\n",
    "                Y_batch.append(padded[-1])\n",
    "            yield tf.constant(X_batch, dtype=tf.int32), tf.constant(Y_batch, dtype=tf.int32)\n",
    "\n",
    "    def train_model(self, dataset, model, batch_size, nepochs, steps_per_epoch):\n",
    "        hist = model.fit(self.train_batch_generator(dataset, batch_size), \n",
    "                            steps_per_epoch = steps_per_epoch, \n",
    "                            epochs          = nepochs,\n",
    "                            callbacks       = [TqdmCallback(verbose=0)], \n",
    "                            shuffle         = False)\n",
    "        return hist"
   ]
  },
  {
   "cell_type": "markdown",
   "metadata": {
    "id": "HJDzjUp-hwNZ",
    "tags": []
   },
   "source": [
    "### Ejercicio 4 &ndash; Explicación/documentación\n",
    "\n",
    "(por hacer)"
   ]
  },
  {
   "cell_type": "markdown",
   "metadata": {
    "id": "hpXHr18Cdl2Q",
    "tags": []
   },
   "source": [
    "## Ejercicio 5: Ampliaciones\n",
    "\n",
    "Explorar variaciones sobre una o varias de las implementaciones anteriores, tales como:\n",
    "\n",
    "* En general:\n",
    "    * Además de las métricas de evaluación usadas en la P1 (precision, recall) incluir otras métricas, bien de acierto (NDCG) u otras (cobertura, diversidad, etc.)\n",
    "\n",
    "* Sobre el ejercicio 1 (algoritmo EASE):\n",
    "    * Añadir la opción de asignar 0 a los pesos negativos, comprobando que su eficacia disminuye (como indica el artículo original)\n",
    "\n",
    "* Sobre el ejercicio 2 (factorización de matrices por aprendizaje profundo) y 3 (modelo Two-Tower):\n",
    "    * Diferentes funciones de scoring de pérdida: sigmoide / BCE loss, BCE loss with logits.\n",
    "    * Diferentes optimizadores y configuraciones de los mismos (SGD, Adam, etc.).\n",
    "    * Variaciones en los hiperparámetros y configuración del modelo: learning rate, número de factores k, número de épocas, inicialización de parámetros del modelo, etc.\n",
    "    * Añadir opciones tales como regularización, dropout, etc.\n",
    "    * Añadir capas ocultas en la implementación sobre framework de deep learning.\n",
    "    * Explorar una formulación *pairwise learning to rank* sobre MF (p.e., BPR).\n",
    "\n",
    "* Sobre el ejercicio 4 (recomendación secuencial):\n",
    "    * Estudiar el impacto del tamaño de los lotes (batch_size)\n",
    "    * Prueba otras formas de partir el conjunto de datos y observa si la eficacia de los algoritmos secuenciales cambia\n",
    "\n",
    "Idealmente estas variaciones buscan mejorar la precisión de la recomendación, pero se valorarán intentos interesantes aunque resulten fallidos en ese aspecto.\n",
    "\n",
    "Para probar las implementaciones deberá completarse la función `student_test()` para ilustrar la ejecución de las variantes adicionales, y se incluirán las filas que correspondan en la tabla del apartado anterior."
   ]
  },
  {
   "cell_type": "code",
   "execution_count": 7,
   "metadata": {},
   "outputs": [],
   "source": [
    "class Metric():\n",
    "    def __init__(self, cutoff):\n",
    "        self.cutoff = cutoff\n",
    "\n",
    "    def __repr__(self):\n",
    "        return type(self).__name__ + ('@' + str(self.cutoff) if self.cutoff != np.inf else '')\n",
    "\n",
    "class Precision(Metric):\n",
    "    def __init__(self, test, cutoff=np.inf, threshold=1):\n",
    "        super().__init__(cutoff)\n",
    "        self.test = test\n",
    "        # Umbral para considerar un ítem como relevante\n",
    "        self.threshold = threshold\n",
    "\n",
    "    def compute(self, recommendation):\n",
    "        k_recommendations = recommendation.ranked_iidx()[:, :self.cutoff]\n",
    "        \n",
    "        x = np.take_along_axis(self.test.matrix(), k_recommendations, axis=1)\n",
    "        relevant_m = x >= self.threshold\n",
    "\n",
    "        return (np.sum(relevant_m, axis=1) / self.cutoff).mean()\n",
    "\n",
    "class Recall(Metric):\n",
    "    def __init__(self, test, cutoff=np.inf, threshold=1):\n",
    "        super().__init__(cutoff)\n",
    "        self.test = test\n",
    "        self.threshold = threshold\n",
    "        self.individual_relevant = np.sum(test.matrix() >= threshold, axis=1)\n",
    "        self.individual_relevant[self.individual_relevant == 0] = 1\n",
    "\n",
    "    def compute(self, recommendation):\n",
    "        k_recommendations = recommendation.ranked_iidx()[:, :self.cutoff]\n",
    "        \n",
    "        x = np.take_along_axis(self.test.matrix(), k_recommendations, axis=1)\n",
    "        relevant_m = x >= self.threshold\n",
    "\n",
    "        return (np.divide(np.sum(relevant_m, axis=1), self.individual_relevant)).mean()\n"
   ]
  },
  {
   "cell_type": "code",
   "execution_count": 8,
   "metadata": {
    "id": "MOfT2yZGpMNi",
    "tags": []
   },
   "outputs": [],
   "source": [
    "# Código aquí: clases, funciones...\n",
    "\n",
    "def student_test():\n",
    "    # Código de prueba aquí...\n",
    "    pass"
   ]
  },
  {
   "cell_type": "markdown",
   "metadata": {
    "id": "ucORmwfCh4Um",
    "tags": []
   },
   "source": [
    "### Ejercicio 5 &ndash; Explicación/documentación\n",
    "\n",
    "(por hacer)"
   ]
  },
  {
   "cell_type": "markdown",
   "metadata": {},
   "source": [
    "## Celda de prueba\n",
    "\n",
    "Descarga los ficheros de datos y coloca sus contenidos en una carpeta **data** en el mismo directorio que este *notebook*."
   ]
  },
  {
   "cell_type": "code",
   "execution_count": 9,
   "metadata": {},
   "outputs": [
    {
     "name": "stdout",
     "output_type": "stream",
     "text": [
      "=========================\n",
      "Testing MovieLens '1 million' dataset\n",
      "\u001b[34mReading the data at 13:31:12...\u001b[0m\n",
      "Ratings matrix takes 85.4 MB in RAM\n",
      "\u001b[34m--> elapsed time: 0:00:03 <--\u001b[0m\n",
      "-------------------------\n"
     ]
    },
    {
     "data": {
      "text/html": [
       "<pre style=\"white-space:pre;overflow-x:auto;line-height:normal;font-family:Menlo,'DejaVu Sans Mono',consolas,'Courier New',monospace\"><span style=\"font-weight: bold\">Model: \"functional\"</span>\n",
       "</pre>\n"
      ],
      "text/plain": [
       "\u001b[1mModel: \"functional\"\u001b[0m\n"
      ]
     },
     "metadata": {},
     "output_type": "display_data"
    },
    {
     "data": {
      "text/html": [
       "<pre style=\"white-space:pre;overflow-x:auto;line-height:normal;font-family:Menlo,'DejaVu Sans Mono',consolas,'Courier New',monospace\">┏━━━━━━━━━━━━━━━━━━━━━┳━━━━━━━━━━━━━━━━━━━┳━━━━━━━━━━━━┳━━━━━━━━━━━━━━━━━━━┓\n",
       "┃<span style=\"font-weight: bold\"> Layer (type)        </span>┃<span style=\"font-weight: bold\"> Output Shape      </span>┃<span style=\"font-weight: bold\">    Param # </span>┃<span style=\"font-weight: bold\"> Connected to      </span>┃\n",
       "┡━━━━━━━━━━━━━━━━━━━━━╇━━━━━━━━━━━━━━━━━━━╇━━━━━━━━━━━━╇━━━━━━━━━━━━━━━━━━━┩\n",
       "│ users (<span style=\"color: #0087ff; text-decoration-color: #0087ff\">InputLayer</span>)  │ (<span style=\"color: #00d7ff; text-decoration-color: #00d7ff\">None</span>)            │          <span style=\"color: #00af00; text-decoration-color: #00af00\">0</span> │ -                 │\n",
       "├─────────────────────┼───────────────────┼────────────┼───────────────────┤\n",
       "│ items (<span style=\"color: #0087ff; text-decoration-color: #0087ff\">InputLayer</span>)  │ (<span style=\"color: #00d7ff; text-decoration-color: #00d7ff\">None</span>)            │          <span style=\"color: #00af00; text-decoration-color: #00af00\">0</span> │ -                 │\n",
       "├─────────────────────┼───────────────────┼────────────┼───────────────────┤\n",
       "│ user_embedding      │ (<span style=\"color: #00d7ff; text-decoration-color: #00d7ff\">None</span>, <span style=\"color: #00af00; text-decoration-color: #00af00\">50</span>)        │    <span style=\"color: #00af00; text-decoration-color: #00af00\">302,000</span> │ users[<span style=\"color: #00af00; text-decoration-color: #00af00\">0</span>][<span style=\"color: #00af00; text-decoration-color: #00af00\">0</span>]       │\n",
       "│ (<span style=\"color: #0087ff; text-decoration-color: #0087ff\">Embedding</span>)         │                   │            │                   │\n",
       "├─────────────────────┼───────────────────┼────────────┼───────────────────┤\n",
       "│ item_embedding      │ (<span style=\"color: #00d7ff; text-decoration-color: #00d7ff\">None</span>, <span style=\"color: #00af00; text-decoration-color: #00af00\">50</span>)        │    <span style=\"color: #00af00; text-decoration-color: #00af00\">185,300</span> │ items[<span style=\"color: #00af00; text-decoration-color: #00af00\">0</span>][<span style=\"color: #00af00; text-decoration-color: #00af00\">0</span>]       │\n",
       "│ (<span style=\"color: #0087ff; text-decoration-color: #0087ff\">Embedding</span>)         │                   │            │                   │\n",
       "├─────────────────────┼───────────────────┼────────────┼───────────────────┤\n",
       "│ dot (<span style=\"color: #0087ff; text-decoration-color: #0087ff\">Dot</span>)           │ (<span style=\"color: #00d7ff; text-decoration-color: #00d7ff\">None</span>, <span style=\"color: #00af00; text-decoration-color: #00af00\">1</span>)         │          <span style=\"color: #00af00; text-decoration-color: #00af00\">0</span> │ user_embedding[<span style=\"color: #00af00; text-decoration-color: #00af00\">0</span>… │\n",
       "│                     │                   │            │ item_embedding[<span style=\"color: #00af00; text-decoration-color: #00af00\">0</span>… │\n",
       "└─────────────────────┴───────────────────┴────────────┴───────────────────┘\n",
       "</pre>\n"
      ],
      "text/plain": [
       "┏━━━━━━━━━━━━━━━━━━━━━┳━━━━━━━━━━━━━━━━━━━┳━━━━━━━━━━━━┳━━━━━━━━━━━━━━━━━━━┓\n",
       "┃\u001b[1m \u001b[0m\u001b[1mLayer (type)       \u001b[0m\u001b[1m \u001b[0m┃\u001b[1m \u001b[0m\u001b[1mOutput Shape     \u001b[0m\u001b[1m \u001b[0m┃\u001b[1m \u001b[0m\u001b[1m   Param #\u001b[0m\u001b[1m \u001b[0m┃\u001b[1m \u001b[0m\u001b[1mConnected to     \u001b[0m\u001b[1m \u001b[0m┃\n",
       "┡━━━━━━━━━━━━━━━━━━━━━╇━━━━━━━━━━━━━━━━━━━╇━━━━━━━━━━━━╇━━━━━━━━━━━━━━━━━━━┩\n",
       "│ users (\u001b[38;5;33mInputLayer\u001b[0m)  │ (\u001b[38;5;45mNone\u001b[0m)            │          \u001b[38;5;34m0\u001b[0m │ -                 │\n",
       "├─────────────────────┼───────────────────┼────────────┼───────────────────┤\n",
       "│ items (\u001b[38;5;33mInputLayer\u001b[0m)  │ (\u001b[38;5;45mNone\u001b[0m)            │          \u001b[38;5;34m0\u001b[0m │ -                 │\n",
       "├─────────────────────┼───────────────────┼────────────┼───────────────────┤\n",
       "│ user_embedding      │ (\u001b[38;5;45mNone\u001b[0m, \u001b[38;5;34m50\u001b[0m)        │    \u001b[38;5;34m302,000\u001b[0m │ users[\u001b[38;5;34m0\u001b[0m][\u001b[38;5;34m0\u001b[0m]       │\n",
       "│ (\u001b[38;5;33mEmbedding\u001b[0m)         │                   │            │                   │\n",
       "├─────────────────────┼───────────────────┼────────────┼───────────────────┤\n",
       "│ item_embedding      │ (\u001b[38;5;45mNone\u001b[0m, \u001b[38;5;34m50\u001b[0m)        │    \u001b[38;5;34m185,300\u001b[0m │ items[\u001b[38;5;34m0\u001b[0m][\u001b[38;5;34m0\u001b[0m]       │\n",
       "│ (\u001b[38;5;33mEmbedding\u001b[0m)         │                   │            │                   │\n",
       "├─────────────────────┼───────────────────┼────────────┼───────────────────┤\n",
       "│ dot (\u001b[38;5;33mDot\u001b[0m)           │ (\u001b[38;5;45mNone\u001b[0m, \u001b[38;5;34m1\u001b[0m)         │          \u001b[38;5;34m0\u001b[0m │ user_embedding[\u001b[38;5;34m0\u001b[0m… │\n",
       "│                     │                   │            │ item_embedding[\u001b[38;5;34m0\u001b[0m… │\n",
       "└─────────────────────┴───────────────────┴────────────┴───────────────────┘\n"
      ]
     },
     "metadata": {},
     "output_type": "display_data"
    },
    {
     "data": {
      "text/html": [
       "<pre style=\"white-space:pre;overflow-x:auto;line-height:normal;font-family:Menlo,'DejaVu Sans Mono',consolas,'Courier New',monospace\"><span style=\"font-weight: bold\"> Total params: </span><span style=\"color: #00af00; text-decoration-color: #00af00\">487,300</span> (1.86 MB)\n",
       "</pre>\n"
      ],
      "text/plain": [
       "\u001b[1m Total params: \u001b[0m\u001b[38;5;34m487,300\u001b[0m (1.86 MB)\n"
      ]
     },
     "metadata": {},
     "output_type": "display_data"
    },
    {
     "data": {
      "text/html": [
       "<pre style=\"white-space:pre;overflow-x:auto;line-height:normal;font-family:Menlo,'DejaVu Sans Mono',consolas,'Courier New',monospace\"><span style=\"font-weight: bold\"> Trainable params: </span><span style=\"color: #00af00; text-decoration-color: #00af00\">487,300</span> (1.86 MB)\n",
       "</pre>\n"
      ],
      "text/plain": [
       "\u001b[1m Trainable params: \u001b[0m\u001b[38;5;34m487,300\u001b[0m (1.86 MB)\n"
      ]
     },
     "metadata": {},
     "output_type": "display_data"
    },
    {
     "data": {
      "text/html": [
       "<pre style=\"white-space:pre;overflow-x:auto;line-height:normal;font-family:Menlo,'DejaVu Sans Mono',consolas,'Courier New',monospace\"><span style=\"font-weight: bold\"> Non-trainable params: </span><span style=\"color: #00af00; text-decoration-color: #00af00\">0</span> (0.00 B)\n",
       "</pre>\n"
      ],
      "text/plain": [
       "\u001b[1m Non-trainable params: \u001b[0m\u001b[38;5;34m0\u001b[0m (0.00 B)\n"
      ]
     },
     "metadata": {},
     "output_type": "display_data"
    },
    {
     "name": "stdout",
     "output_type": "stream",
     "text": [
      "You must install graphviz (see instructions at https://graphviz.gitlab.io/download/) for `plot_model` to work.\n"
     ]
    },
    {
     "name": "stderr",
     "output_type": "stream",
     "text": [
      "100%|██████████| 5/5 [00:17<00:00,  3.42s/epoch, loss=0.228]\n"
     ]
    },
    {
     "data": {
      "image/png": "[encoded data removed]",
      "text/plain": [
       "<Figure size 640x480 with 1 Axes>"
      ]
     },
     "metadata": {},
     "output_type": "display_data"
    },
    {
     "name": "stdout",
     "output_type": "stream",
     "text": [
      "\u001b[1m38/38\u001b[0m \u001b[32m━━━━━━━━━━━━━━━━━━━━\u001b[0m\u001b[37m\u001b[0m \u001b[1m5s\u001b[0m 136ms/step\n",
      "Testing DLMFRecommender (top 10)\n",
      "Four example recommendations:\n",
      "    User 1 -> <320:0.0197 939:0.019 2753:0.0189 1333:0.0187 1232:0.0187 2211:0.0184 3057:0.0182 3804:0.0172 3622:0.0171 318:0.0166>\n",
      "    User 2 -> <3147:0.0202 886:0.0185 466:0.0184 2473:0.0181 248:0.0177 1732:0.0176 2464:0.0174 784:0.0171 750:0.0169 872:0.0166>\n",
      "    User 3 -> <1617:0.0203 208:0.0202 1721:0.0186 3468:0.0182 3070:0.0174 3531:0.017 2542:0.017 3551:0.0169 1260:0.0167 2342:0.0167>\n",
      "    User 4 -> <1102:0.0202 442:0.0197 1019:0.0194 2219:0.0193 1865:0.0192 2558:0.019 742:0.0187 191:0.0186 1165:0.0183 275:0.018>\n",
      "Precision@10 = 0.023509933774834436\n",
      "Recall@10 = 0.00627535324642281\n",
      "\u001b[34m--> elapsed time: 0:00:24 <--\u001b[0m\n",
      "-------------------------\n"
     ]
    },
    {
     "data": {
      "text/html": [
       "<pre style=\"white-space:pre;overflow-x:auto;line-height:normal;font-family:Menlo,'DejaVu Sans Mono',consolas,'Courier New',monospace\"><span style=\"font-weight: bold\">Model: \"functional_1\"</span>\n",
       "</pre>\n"
      ],
      "text/plain": [
       "\u001b[1mModel: \"functional_1\"\u001b[0m\n"
      ]
     },
     "metadata": {},
     "output_type": "display_data"
    },
    {
     "data": {
      "text/html": [
       "<pre style=\"white-space:pre;overflow-x:auto;line-height:normal;font-family:Menlo,'DejaVu Sans Mono',consolas,'Courier New',monospace\">┏━━━━━━━━━━━━━━━━━━━━━┳━━━━━━━━━━━━━━━━━━━┳━━━━━━━━━━━━┳━━━━━━━━━━━━━━━━━━━┓\n",
       "┃<span style=\"font-weight: bold\"> Layer (type)        </span>┃<span style=\"font-weight: bold\"> Output Shape      </span>┃<span style=\"font-weight: bold\">    Param # </span>┃<span style=\"font-weight: bold\"> Connected to      </span>┃\n",
       "┡━━━━━━━━━━━━━━━━━━━━━╇━━━━━━━━━━━━━━━━━━━╇━━━━━━━━━━━━╇━━━━━━━━━━━━━━━━━━━┩\n",
       "│ users (<span style=\"color: #0087ff; text-decoration-color: #0087ff\">InputLayer</span>)  │ (<span style=\"color: #00d7ff; text-decoration-color: #00d7ff\">None</span>)            │          <span style=\"color: #00af00; text-decoration-color: #00af00\">0</span> │ -                 │\n",
       "├─────────────────────┼───────────────────┼────────────┼───────────────────┤\n",
       "│ items (<span style=\"color: #0087ff; text-decoration-color: #0087ff\">InputLayer</span>)  │ (<span style=\"color: #00d7ff; text-decoration-color: #00d7ff\">None</span>)            │          <span style=\"color: #00af00; text-decoration-color: #00af00\">0</span> │ -                 │\n",
       "├─────────────────────┼───────────────────┼────────────┼───────────────────┤\n",
       "│ user_embedding      │ (<span style=\"color: #00d7ff; text-decoration-color: #00d7ff\">None</span>, <span style=\"color: #00af00; text-decoration-color: #00af00\">50</span>)        │    <span style=\"color: #00af00; text-decoration-color: #00af00\">302,000</span> │ users[<span style=\"color: #00af00; text-decoration-color: #00af00\">0</span>][<span style=\"color: #00af00; text-decoration-color: #00af00\">0</span>]       │\n",
       "│ (<span style=\"color: #0087ff; text-decoration-color: #0087ff\">Embedding</span>)         │                   │            │                   │\n",
       "├─────────────────────┼───────────────────┼────────────┼───────────────────┤\n",
       "│ item_embedding      │ (<span style=\"color: #00d7ff; text-decoration-color: #00d7ff\">None</span>, <span style=\"color: #00af00; text-decoration-color: #00af00\">50</span>)        │    <span style=\"color: #00af00; text-decoration-color: #00af00\">185,300</span> │ items[<span style=\"color: #00af00; text-decoration-color: #00af00\">0</span>][<span style=\"color: #00af00; text-decoration-color: #00af00\">0</span>]       │\n",
       "│ (<span style=\"color: #0087ff; text-decoration-color: #0087ff\">Embedding</span>)         │                   │            │                   │\n",
       "├─────────────────────┼───────────────────┼────────────┼───────────────────┤\n",
       "│ flatten (<span style=\"color: #0087ff; text-decoration-color: #0087ff\">Flatten</span>)   │ (<span style=\"color: #00d7ff; text-decoration-color: #00d7ff\">None</span>, <span style=\"color: #00af00; text-decoration-color: #00af00\">50</span>)        │          <span style=\"color: #00af00; text-decoration-color: #00af00\">0</span> │ user_embedding[<span style=\"color: #00af00; text-decoration-color: #00af00\">0</span>… │\n",
       "├─────────────────────┼───────────────────┼────────────┼───────────────────┤\n",
       "│ flatten_1 (<span style=\"color: #0087ff; text-decoration-color: #0087ff\">Flatten</span>) │ (<span style=\"color: #00d7ff; text-decoration-color: #00d7ff\">None</span>, <span style=\"color: #00af00; text-decoration-color: #00af00\">50</span>)        │          <span style=\"color: #00af00; text-decoration-color: #00af00\">0</span> │ item_embedding[<span style=\"color: #00af00; text-decoration-color: #00af00\">0</span>… │\n",
       "├─────────────────────┼───────────────────┼────────────┼───────────────────┤\n",
       "│ user_dense (<span style=\"color: #0087ff; text-decoration-color: #0087ff\">Dense</span>)  │ (<span style=\"color: #00d7ff; text-decoration-color: #00d7ff\">None</span>, <span style=\"color: #00af00; text-decoration-color: #00af00\">50</span>)        │      <span style=\"color: #00af00; text-decoration-color: #00af00\">2,550</span> │ flatten[<span style=\"color: #00af00; text-decoration-color: #00af00\">0</span>][<span style=\"color: #00af00; text-decoration-color: #00af00\">0</span>]     │\n",
       "├─────────────────────┼───────────────────┼────────────┼───────────────────┤\n",
       "│ item_dense (<span style=\"color: #0087ff; text-decoration-color: #0087ff\">Dense</span>)  │ (<span style=\"color: #00d7ff; text-decoration-color: #00d7ff\">None</span>, <span style=\"color: #00af00; text-decoration-color: #00af00\">50</span>)        │      <span style=\"color: #00af00; text-decoration-color: #00af00\">2,550</span> │ flatten_1[<span style=\"color: #00af00; text-decoration-color: #00af00\">0</span>][<span style=\"color: #00af00; text-decoration-color: #00af00\">0</span>]   │\n",
       "├─────────────────────┼───────────────────┼────────────┼───────────────────┤\n",
       "│ dot_product (<span style=\"color: #0087ff; text-decoration-color: #0087ff\">Dot</span>)   │ (<span style=\"color: #00d7ff; text-decoration-color: #00d7ff\">None</span>, <span style=\"color: #00af00; text-decoration-color: #00af00\">1</span>)         │          <span style=\"color: #00af00; text-decoration-color: #00af00\">0</span> │ user_dense[<span style=\"color: #00af00; text-decoration-color: #00af00\">0</span>][<span style=\"color: #00af00; text-decoration-color: #00af00\">0</span>], │\n",
       "│                     │                   │            │ item_dense[<span style=\"color: #00af00; text-decoration-color: #00af00\">0</span>][<span style=\"color: #00af00; text-decoration-color: #00af00\">0</span>]  │\n",
       "└─────────────────────┴───────────────────┴────────────┴───────────────────┘\n",
       "</pre>\n"
      ],
      "text/plain": [
       "┏━━━━━━━━━━━━━━━━━━━━━┳━━━━━━━━━━━━━━━━━━━┳━━━━━━━━━━━━┳━━━━━━━━━━━━━━━━━━━┓\n",
       "┃\u001b[1m \u001b[0m\u001b[1mLayer (type)       \u001b[0m\u001b[1m \u001b[0m┃\u001b[1m \u001b[0m\u001b[1mOutput Shape     \u001b[0m\u001b[1m \u001b[0m┃\u001b[1m \u001b[0m\u001b[1m   Param #\u001b[0m\u001b[1m \u001b[0m┃\u001b[1m \u001b[0m\u001b[1mConnected to     \u001b[0m\u001b[1m \u001b[0m┃\n",
       "┡━━━━━━━━━━━━━━━━━━━━━╇━━━━━━━━━━━━━━━━━━━╇━━━━━━━━━━━━╇━━━━━━━━━━━━━━━━━━━┩\n",
       "│ users (\u001b[38;5;33mInputLayer\u001b[0m)  │ (\u001b[38;5;45mNone\u001b[0m)            │          \u001b[38;5;34m0\u001b[0m │ -                 │\n",
       "├─────────────────────┼───────────────────┼────────────┼───────────────────┤\n",
       "│ items (\u001b[38;5;33mInputLayer\u001b[0m)  │ (\u001b[38;5;45mNone\u001b[0m)            │          \u001b[38;5;34m0\u001b[0m │ -                 │\n",
       "├─────────────────────┼───────────────────┼────────────┼───────────────────┤\n",
       "│ user_embedding      │ (\u001b[38;5;45mNone\u001b[0m, \u001b[38;5;34m50\u001b[0m)        │    \u001b[38;5;34m302,000\u001b[0m │ users[\u001b[38;5;34m0\u001b[0m][\u001b[38;5;34m0\u001b[0m]       │\n",
       "│ (\u001b[38;5;33mEmbedding\u001b[0m)         │                   │            │                   │\n",
       "├─────────────────────┼───────────────────┼────────────┼───────────────────┤\n",
       "│ item_embedding      │ (\u001b[38;5;45mNone\u001b[0m, \u001b[38;5;34m50\u001b[0m)        │    \u001b[38;5;34m185,300\u001b[0m │ items[\u001b[38;5;34m0\u001b[0m][\u001b[38;5;34m0\u001b[0m]       │\n",
       "│ (\u001b[38;5;33mEmbedding\u001b[0m)         │                   │            │                   │\n",
       "├─────────────────────┼───────────────────┼────────────┼───────────────────┤\n",
       "│ flatten (\u001b[38;5;33mFlatten\u001b[0m)   │ (\u001b[38;5;45mNone\u001b[0m, \u001b[38;5;34m50\u001b[0m)        │          \u001b[38;5;34m0\u001b[0m │ user_embedding[\u001b[38;5;34m0\u001b[0m… │\n",
       "├─────────────────────┼───────────────────┼────────────┼───────────────────┤\n",
       "│ flatten_1 (\u001b[38;5;33mFlatten\u001b[0m) │ (\u001b[38;5;45mNone\u001b[0m, \u001b[38;5;34m50\u001b[0m)        │          \u001b[38;5;34m0\u001b[0m │ item_embedding[\u001b[38;5;34m0\u001b[0m… │\n",
       "├─────────────────────┼───────────────────┼────────────┼───────────────────┤\n",
       "│ user_dense (\u001b[38;5;33mDense\u001b[0m)  │ (\u001b[38;5;45mNone\u001b[0m, \u001b[38;5;34m50\u001b[0m)        │      \u001b[38;5;34m2,550\u001b[0m │ flatten[\u001b[38;5;34m0\u001b[0m][\u001b[38;5;34m0\u001b[0m]     │\n",
       "├─────────────────────┼───────────────────┼────────────┼───────────────────┤\n",
       "│ item_dense (\u001b[38;5;33mDense\u001b[0m)  │ (\u001b[38;5;45mNone\u001b[0m, \u001b[38;5;34m50\u001b[0m)        │      \u001b[38;5;34m2,550\u001b[0m │ flatten_1[\u001b[38;5;34m0\u001b[0m][\u001b[38;5;34m0\u001b[0m]   │\n",
       "├─────────────────────┼───────────────────┼────────────┼───────────────────┤\n",
       "│ dot_product (\u001b[38;5;33mDot\u001b[0m)   │ (\u001b[38;5;45mNone\u001b[0m, \u001b[38;5;34m1\u001b[0m)         │          \u001b[38;5;34m0\u001b[0m │ user_dense[\u001b[38;5;34m0\u001b[0m][\u001b[38;5;34m0\u001b[0m], │\n",
       "│                     │                   │            │ item_dense[\u001b[38;5;34m0\u001b[0m][\u001b[38;5;34m0\u001b[0m]  │\n",
       "└─────────────────────┴───────────────────┴────────────┴───────────────────┘\n"
      ]
     },
     "metadata": {},
     "output_type": "display_data"
    },
    {
     "data": {
      "text/html": [
       "<pre style=\"white-space:pre;overflow-x:auto;line-height:normal;font-family:Menlo,'DejaVu Sans Mono',consolas,'Courier New',monospace\"><span style=\"font-weight: bold\"> Total params: </span><span style=\"color: #00af00; text-decoration-color: #00af00\">492,400</span> (1.88 MB)\n",
       "</pre>\n"
      ],
      "text/plain": [
       "\u001b[1m Total params: \u001b[0m\u001b[38;5;34m492,400\u001b[0m (1.88 MB)\n"
      ]
     },
     "metadata": {},
     "output_type": "display_data"
    },
    {
     "data": {
      "text/html": [
       "<pre style=\"white-space:pre;overflow-x:auto;line-height:normal;font-family:Menlo,'DejaVu Sans Mono',consolas,'Courier New',monospace\"><span style=\"font-weight: bold\"> Trainable params: </span><span style=\"color: #00af00; text-decoration-color: #00af00\">492,400</span> (1.88 MB)\n",
       "</pre>\n"
      ],
      "text/plain": [
       "\u001b[1m Trainable params: \u001b[0m\u001b[38;5;34m492,400\u001b[0m (1.88 MB)\n"
      ]
     },
     "metadata": {},
     "output_type": "display_data"
    },
    {
     "data": {
      "text/html": [
       "<pre style=\"white-space:pre;overflow-x:auto;line-height:normal;font-family:Menlo,'DejaVu Sans Mono',consolas,'Courier New',monospace\"><span style=\"font-weight: bold\"> Non-trainable params: </span><span style=\"color: #00af00; text-decoration-color: #00af00\">0</span> (0.00 B)\n",
       "</pre>\n"
      ],
      "text/plain": [
       "\u001b[1m Non-trainable params: \u001b[0m\u001b[38;5;34m0\u001b[0m (0.00 B)\n"
      ]
     },
     "metadata": {},
     "output_type": "display_data"
    },
    {
     "name": "stdout",
     "output_type": "stream",
     "text": [
      "You must install graphviz (see instructions at https://graphviz.gitlab.io/download/) for `plot_model` to work.\n"
     ]
    },
    {
     "name": "stderr",
     "output_type": "stream",
     "text": [
      "100%|██████████| 5/5 [00:24<00:00,  4.86s/epoch, loss=0.185]\n"
     ]
    },
    {
     "data": {
      "image/png": "[encoded data removed]",
      "text/plain": [
       "<Figure size 640x480 with 1 Axes>"
      ]
     },
     "metadata": {},
     "output_type": "display_data"
    },
    {
     "name": "stdout",
     "output_type": "stream",
     "text": [
      "\u001b[1m38/38\u001b[0m \u001b[32m━━━━━━━━━━━━━━━━━━━━\u001b[0m\u001b[37m\u001b[0m \u001b[1m7s\u001b[0m 173ms/step\n",
      "Testing TwoTowerRecommender (top 10)\n",
      "Four example recommendations:\n",
      "    User 1 -> <858:0.4105 50:0.406 2997:0.4058 1923:0.3934 1240:0.3932 589:0.3912 3751:0.391 1210:0.3866 296:0.3824 3114:0.3776>\n",
      "    User 2 -> <2997:0.653 1617:0.6078 318:0.606 1221:0.5995 608:0.5985 2762:0.5975 924:0.5968 858:0.5853 3114:0.5843 2396:0.5804>\n",
      "    User 3 -> <318:0.4342 2762:0.4266 2028:0.4057 858:0.3966 457:0.3746 3578:0.3711 2396:0.366 296:0.3614 608:0.3579 3052:0.3565>\n",
      "    User 4 -> <2858:0.3163 1617:0.2983 2797:0.2856 608:0.278 541:0.2734 3175:0.2713 1393:0.2703 593:0.2697 1094:0.2672 527:0.266>\n",
      "Precision@10 = 0.12746688741721857\n",
      "Recall@10 = 0.04551890153399358\n",
      "\u001b[34m--> elapsed time: 0:00:32 <--\u001b[0m\n",
      "-------------------------\n",
      "Testing Ease (top 10)\n",
      "Four example recommendations:\n",
      "    User 1 -> <1148:0.4818 1688:0.4764 2565:0.466 2708:0.4592 588:0.451 2983:0.4496 1032:0.4389 1480:0.4337 2087:0.4201 1666:0.4121>\n",
      "    User 2 -> <733:0.6353 1580:0.5979 3118:0.5714 1608:0.5678 957:0.5637 3844:0.5595 349:0.5547 474:0.5513 1099:0.5317 1460:0.5248>\n",
      "    User 3 -> <2918:0.579 2893:0.4919 2635:0.4903 3628:0.4897 1291:0.4816 2791:0.432 2370:0.4314 255:0.4153 2196:0.4103 2729:0.4015>\n",
      "    User 4 -> <1291:0.4874 2534:0.4796 2948:0.4201 1200:0.4167 2571:0.3694 589:0.3528 1791:0.3386 1727:0.3336 3703:0.3321 1655:0.32>\n",
      "Precision@10 = 0.2023509933774834\n",
      "Recall@10 = 0.08744171852376187\n",
      "\u001b[34m--> elapsed time: 0:00:02 <--\u001b[0m\n",
      "-------------------------\n"
     ]
    },
    {
     "data": {
      "text/html": [
       "<pre style=\"white-space:pre;overflow-x:auto;line-height:normal;font-family:Menlo,'DejaVu Sans Mono',consolas,'Courier New',monospace\"><span style=\"font-weight: bold\">Model: \"GRU4Rec\"</span>\n",
       "</pre>\n"
      ],
      "text/plain": [
       "\u001b[1mModel: \"GRU4Rec\"\u001b[0m\n"
      ]
     },
     "metadata": {},
     "output_type": "display_data"
    },
    {
     "data": {
      "text/html": [
       "<pre style=\"white-space:pre;overflow-x:auto;line-height:normal;font-family:Menlo,'DejaVu Sans Mono',consolas,'Courier New',monospace\">┏━━━━━━━━━━━━━━━━━━━━━━━━━━━━━━━━━┳━━━━━━━━━━━━━━━━━━━━━━━━┳━━━━━━━━━━━━━━━┓\n",
       "┃<span style=\"font-weight: bold\"> Layer (type)                    </span>┃<span style=\"font-weight: bold\"> Output Shape           </span>┃<span style=\"font-weight: bold\">       Param # </span>┃\n",
       "┡━━━━━━━━━━━━━━━━━━━━━━━━━━━━━━━━━╇━━━━━━━━━━━━━━━━━━━━━━━━╇━━━━━━━━━━━━━━━┩\n",
       "│ GRU_1 (<span style=\"color: #0087ff; text-decoration-color: #0087ff\">GRU</span>)                     │ (<span style=\"color: #00af00; text-decoration-color: #00af00\">32</span>, <span style=\"color: #00af00; text-decoration-color: #00af00\">50</span>)               │       <span style=\"color: #00af00; text-decoration-color: #00af00\">563,700</span> │\n",
       "├─────────────────────────────────┼────────────────────────┼───────────────┤\n",
       "│ dense (<span style=\"color: #0087ff; text-decoration-color: #0087ff\">Dense</span>)                   │ (<span style=\"color: #00af00; text-decoration-color: #00af00\">32</span>, <span style=\"color: #00af00; text-decoration-color: #00af00\">3706</span>)             │       <span style=\"color: #00af00; text-decoration-color: #00af00\">189,006</span> │\n",
       "└─────────────────────────────────┴────────────────────────┴───────────────┘\n",
       "</pre>\n"
      ],
      "text/plain": [
       "┏━━━━━━━━━━━━━━━━━━━━━━━━━━━━━━━━━┳━━━━━━━━━━━━━━━━━━━━━━━━┳━━━━━━━━━━━━━━━┓\n",
       "┃\u001b[1m \u001b[0m\u001b[1mLayer (type)                   \u001b[0m\u001b[1m \u001b[0m┃\u001b[1m \u001b[0m\u001b[1mOutput Shape          \u001b[0m\u001b[1m \u001b[0m┃\u001b[1m \u001b[0m\u001b[1m      Param #\u001b[0m\u001b[1m \u001b[0m┃\n",
       "┡━━━━━━━━━━━━━━━━━━━━━━━━━━━━━━━━━╇━━━━━━━━━━━━━━━━━━━━━━━━╇━━━━━━━━━━━━━━━┩\n",
       "│ GRU_1 (\u001b[38;5;33mGRU\u001b[0m)                     │ (\u001b[38;5;34m32\u001b[0m, \u001b[38;5;34m50\u001b[0m)               │       \u001b[38;5;34m563,700\u001b[0m │\n",
       "├─────────────────────────────────┼────────────────────────┼───────────────┤\n",
       "│ dense (\u001b[38;5;33mDense\u001b[0m)                   │ (\u001b[38;5;34m32\u001b[0m, \u001b[38;5;34m3706\u001b[0m)             │       \u001b[38;5;34m189,006\u001b[0m │\n",
       "└─────────────────────────────────┴────────────────────────┴───────────────┘\n"
      ]
     },
     "metadata": {},
     "output_type": "display_data"
    },
    {
     "data": {
      "text/html": [
       "<pre style=\"white-space:pre;overflow-x:auto;line-height:normal;font-family:Menlo,'DejaVu Sans Mono',consolas,'Courier New',monospace\"><span style=\"font-weight: bold\"> Total params: </span><span style=\"color: #00af00; text-decoration-color: #00af00\">752,706</span> (2.87 MB)\n",
       "</pre>\n"
      ],
      "text/plain": [
       "\u001b[1m Total params: \u001b[0m\u001b[38;5;34m752,706\u001b[0m (2.87 MB)\n"
      ]
     },
     "metadata": {},
     "output_type": "display_data"
    },
    {
     "data": {
      "text/html": [
       "<pre style=\"white-space:pre;overflow-x:auto;line-height:normal;font-family:Menlo,'DejaVu Sans Mono',consolas,'Courier New',monospace\"><span style=\"font-weight: bold\"> Trainable params: </span><span style=\"color: #00af00; text-decoration-color: #00af00\">752,706</span> (2.87 MB)\n",
       "</pre>\n"
      ],
      "text/plain": [
       "\u001b[1m Trainable params: \u001b[0m\u001b[38;5;34m752,706\u001b[0m (2.87 MB)\n"
      ]
     },
     "metadata": {},
     "output_type": "display_data"
    },
    {
     "data": {
      "text/html": [
       "<pre style=\"white-space:pre;overflow-x:auto;line-height:normal;font-family:Menlo,'DejaVu Sans Mono',consolas,'Courier New',monospace\"><span style=\"font-weight: bold\"> Non-trainable params: </span><span style=\"color: #00af00; text-decoration-color: #00af00\">0</span> (0.00 B)\n",
       "</pre>\n"
      ],
      "text/plain": [
       "\u001b[1m Non-trainable params: \u001b[0m\u001b[38;5;34m0\u001b[0m (0.00 B)\n"
      ]
     },
     "metadata": {},
     "output_type": "display_data"
    },
    {
     "name": "stdout",
     "output_type": "stream",
     "text": [
      "None\n"
     ]
    },
    {
     "name": "stderr",
     "output_type": "stream",
     "text": [
      "  0%|          | 0/5 [00:00<?, ?epoch/s]"
     ]
    },
    {
     "name": "stdout",
     "output_type": "stream",
     "text": [
      "Epoch 1/5\n",
      "\u001b[1m100/100\u001b[0m \u001b[32m━━━━━━━━━━━━━━━━━━━━\u001b[0m\u001b[37m\u001b[0m \u001b[1m0s\u001b[0m 192ms/step - accuracy: 0.0039 - loss: 118024.4062 - top3accuracy: 0.0131"
     ]
    },
    {
     "name": "stderr",
     "output_type": "stream",
     "text": [
      " 20%|██        | 1/5 [00:20<01:21, 20.32s/epoch, accuracy=0.00375, loss=1.18e+5, top3accuracy=0.0125]"
     ]
    },
    {
     "name": "stdout",
     "output_type": "stream",
     "text": [
      "\u001b[1m100/100\u001b[0m \u001b[32m━━━━━━━━━━━━━━━━━━━━\u001b[0m\u001b[37m\u001b[0m \u001b[1m20s\u001b[0m 192ms/step - accuracy: 0.0039 - loss: 118019.3750 - top3accuracy: 0.0131\n",
      "Epoch 2/5\n",
      "\u001b[1m100/100\u001b[0m \u001b[32m━━━━━━━━━━━━━━━━━━━━\u001b[0m\u001b[37m\u001b[0m \u001b[1m0s\u001b[0m 194ms/step - accuracy: 9.3140e-04 - loss: 116623.4141 - top3accuracy: 0.0109"
     ]
    },
    {
     "name": "stderr",
     "output_type": "stream",
     "text": [
      " 40%|████      | 2/5 [00:39<00:59, 19.80s/epoch, accuracy=0.00187, loss=1.16e+5, top3accuracy=0.0109]"
     ]
    },
    {
     "name": "stdout",
     "output_type": "stream",
     "text": [
      "\u001b[1m100/100\u001b[0m \u001b[32m━━━━━━━━━━━━━━━━━━━━\u001b[0m\u001b[37m\u001b[0m \u001b[1m19s\u001b[0m 194ms/step - accuracy: 9.4074e-04 - loss: 116621.0391 - top3accuracy: 0.0109\n",
      "Epoch 3/5\n",
      "\u001b[1m100/100\u001b[0m \u001b[32m━━━━━━━━━━━━━━━━━━━━\u001b[0m\u001b[37m\u001b[0m \u001b[1m0s\u001b[0m 192ms/step - accuracy: 0.0021 - loss: 115757.1562 - top3accuracy: 0.0134"
     ]
    },
    {
     "name": "stderr",
     "output_type": "stream",
     "text": [
      " 60%|██████    | 3/5 [00:58<00:39, 19.55s/epoch, accuracy=0.00313, loss=1.16e+5, top3accuracy=0.0125]"
     ]
    },
    {
     "name": "stdout",
     "output_type": "stream",
     "text": [
      "\u001b[1m100/100\u001b[0m \u001b[32m━━━━━━━━━━━━━━━━━━━━\u001b[0m\u001b[37m\u001b[0m \u001b[1m19s\u001b[0m 192ms/step - accuracy: 0.0021 - loss: 115756.1328 - top3accuracy: 0.0134\n",
      "Epoch 4/5\n",
      "\u001b[1m100/100\u001b[0m \u001b[32m━━━━━━━━━━━━━━━━━━━━\u001b[0m\u001b[37m\u001b[0m \u001b[1m0s\u001b[0m 193ms/step - accuracy: 0.0029 - loss: 115250.0938 - top3accuracy: 0.0128"
     ]
    },
    {
     "name": "stderr",
     "output_type": "stream",
     "text": [
      " 80%|████████  | 4/5 [01:18<00:19, 19.46s/epoch, accuracy=0.00438, loss=1.15e+5, top3accuracy=0.0128]"
     ]
    },
    {
     "name": "stdout",
     "output_type": "stream",
     "text": [
      "\u001b[1m100/100\u001b[0m \u001b[32m━━━━━━━━━━━━━━━━━━━━\u001b[0m\u001b[37m\u001b[0m \u001b[1m19s\u001b[0m 193ms/step - accuracy: 0.0029 - loss: 115250.1016 - top3accuracy: 0.0128\n",
      "Epoch 5/5\n",
      "\u001b[1m100/100\u001b[0m \u001b[32m━━━━━━━━━━━━━━━━━━━━\u001b[0m\u001b[37m\u001b[0m \u001b[1m0s\u001b[0m 192ms/step - accuracy: 0.0045 - loss: 114563.4219 - top3accuracy: 0.0157"
     ]
    },
    {
     "name": "stderr",
     "output_type": "stream",
     "text": [
      "100%|██████████| 5/5 [01:37<00:00, 19.38s/epoch, accuracy=0.005, loss=1.14e+5, top3accuracy=0.0156]  "
     ]
    },
    {
     "name": "stdout",
     "output_type": "stream",
     "text": [
      "\u001b[1m100/100\u001b[0m \u001b[32m━━━━━━━━━━━━━━━━━━━━\u001b[0m\u001b[37m\u001b[0m \u001b[1m19s\u001b[0m 192ms/step - accuracy: 0.0045 - loss: 114559.0938 - top3accuracy: 0.0157\n"
     ]
    },
    {
     "name": "stderr",
     "output_type": "stream",
     "text": [
      "100%|██████████| 5/5 [01:37<00:00, 19.51s/epoch, accuracy=0.005, loss=1.14e+5, top3accuracy=0.0156]\n"
     ]
    },
    {
     "name": "stdout",
     "output_type": "stream",
     "text": [
      "Testing GRU4RecRecommender (top 10)\n",
      "Four example recommendations:\n",
      "    User 1 -> <64:0.2867 140:0.2739 99:0.2627 17:0.2407 80:0.2407 525:0.2274 8:0.2237 133:0.22 135:0.2199 533:0.2166>\n",
      "    User 2 -> <64:0.2623 140:0.2518 150:0.2495 99:0.2435 17:0.2224 80:0.2207 525:0.2097 8:0.2078 135:0.2048 133:0.2041>\n",
      "    User 3 -> <64:0.32 140:0.3028 150:0.2964 99:0.2883 80:0.2707 17:0.2665 525:0.2487 8:0.2474 133:0.2418 135:0.2366>\n",
      "    User 4 -> <64:0.2806 140:0.2686 150:0.2662 99:0.2581 80:0.2374 17:0.237 525:0.2234 8:0.2221 135:0.2176 133:0.2146>\n",
      "Precision@10 = 0.00026490066225165563\n",
      "Recall@10 = 0.0026490066225165563\n",
      "CategoricalAccuracy@1 = 0.0\n",
      "CategoricalAccuracy@3 = 0.002152318\n",
      "CategoricalAccuracy@10 = 1.0\n",
      "\u001b[34m--> elapsed time: 0:03:31 <--\u001b[0m\n",
      "-------------------------\n",
      "WARNING:tensorflow:From c:\\Users\\User\\Desktop\\Master\\SR\\.venv\\Lib\\site-packages\\keras\\src\\backend\\tensorflow\\core.py:219: The name tf.placeholder is deprecated. Please use tf.compat.v1.placeholder instead.\n",
      "\n"
     ]
    },
    {
     "data": {
      "text/html": [
       "<pre style=\"white-space:pre;overflow-x:auto;line-height:normal;font-family:Menlo,'DejaVu Sans Mono',consolas,'Courier New',monospace\"><span style=\"font-weight: bold\">Model: \"Transformer\"</span>\n",
       "</pre>\n"
      ],
      "text/plain": [
       "\u001b[1mModel: \"Transformer\"\u001b[0m\n"
      ]
     },
     "metadata": {},
     "output_type": "display_data"
    },
    {
     "data": {
      "text/html": [
       "<pre style=\"white-space:pre;overflow-x:auto;line-height:normal;font-family:Menlo,'DejaVu Sans Mono',consolas,'Courier New',monospace\">┏━━━━━━━━━━━━━━━━━━━━━┳━━━━━━━━━━━━━━━━━━━┳━━━━━━━━━━━━┳━━━━━━━━━━━━━━━━━━━┓\n",
       "┃<span style=\"font-weight: bold\"> Layer (type)        </span>┃<span style=\"font-weight: bold\"> Output Shape      </span>┃<span style=\"font-weight: bold\">    Param # </span>┃<span style=\"font-weight: bold\"> Connected to      </span>┃\n",
       "┡━━━━━━━━━━━━━━━━━━━━━╇━━━━━━━━━━━━━━━━━━━╇━━━━━━━━━━━━╇━━━━━━━━━━━━━━━━━━━┩\n",
       "│ input_layer_1       │ (<span style=\"color: #00d7ff; text-decoration-color: #00d7ff\">None</span>, <span style=\"color: #00af00; text-decoration-color: #00af00\">50</span>)        │          <span style=\"color: #00af00; text-decoration-color: #00af00\">0</span> │ -                 │\n",
       "│ (<span style=\"color: #0087ff; text-decoration-color: #0087ff\">InputLayer</span>)        │                   │            │                   │\n",
       "├─────────────────────┼───────────────────┼────────────┼───────────────────┤\n",
       "│ embedding           │ (<span style=\"color: #00d7ff; text-decoration-color: #00d7ff\">None</span>, <span style=\"color: #00af00; text-decoration-color: #00af00\">50</span>, <span style=\"color: #00af00; text-decoration-color: #00af00\">128</span>)   │    <span style=\"color: #00af00; text-decoration-color: #00af00\">474,496</span> │ input_layer_1[<span style=\"color: #00af00; text-decoration-color: #00af00\">0</span>]… │\n",
       "│ (<span style=\"color: #0087ff; text-decoration-color: #0087ff\">Embedding</span>)         │                   │            │                   │\n",
       "├─────────────────────┼───────────────────┼────────────┼───────────────────┤\n",
       "│ positional_embeddi… │ (<span style=\"color: #00d7ff; text-decoration-color: #00d7ff\">None</span>, <span style=\"color: #00af00; text-decoration-color: #00af00\">50</span>, <span style=\"color: #00af00; text-decoration-color: #00af00\">128</span>)   │      <span style=\"color: #00af00; text-decoration-color: #00af00\">6,400</span> │ embedding[<span style=\"color: #00af00; text-decoration-color: #00af00\">0</span>][<span style=\"color: #00af00; text-decoration-color: #00af00\">0</span>]   │\n",
       "│ (<span style=\"color: #0087ff; text-decoration-color: #0087ff\">PositionalEmbeddi…</span> │                   │            │                   │\n",
       "├─────────────────────┼───────────────────┼────────────┼───────────────────┤\n",
       "│ layer_normalization │ (<span style=\"color: #00d7ff; text-decoration-color: #00d7ff\">None</span>, <span style=\"color: #00af00; text-decoration-color: #00af00\">50</span>, <span style=\"color: #00af00; text-decoration-color: #00af00\">128</span>)   │        <span style=\"color: #00af00; text-decoration-color: #00af00\">256</span> │ positional_embed… │\n",
       "│ (<span style=\"color: #0087ff; text-decoration-color: #0087ff\">LayerNormalizatio…</span> │                   │            │                   │\n",
       "├─────────────────────┼───────────────────┼────────────┼───────────────────┤\n",
       "│ multi_head_attenti… │ (<span style=\"color: #00d7ff; text-decoration-color: #00d7ff\">None</span>, <span style=\"color: #00af00; text-decoration-color: #00af00\">50</span>, <span style=\"color: #00af00; text-decoration-color: #00af00\">128</span>)   │    <span style=\"color: #00af00; text-decoration-color: #00af00\">263,808</span> │ layer_normalizat… │\n",
       "│ (<span style=\"color: #0087ff; text-decoration-color: #0087ff\">MultiHeadAttentio…</span> │                   │            │ layer_normalizat… │\n",
       "├─────────────────────┼───────────────────┼────────────┼───────────────────┤\n",
       "│ add (<span style=\"color: #0087ff; text-decoration-color: #0087ff\">Add</span>)           │ (<span style=\"color: #00d7ff; text-decoration-color: #00d7ff\">None</span>, <span style=\"color: #00af00; text-decoration-color: #00af00\">50</span>, <span style=\"color: #00af00; text-decoration-color: #00af00\">128</span>)   │          <span style=\"color: #00af00; text-decoration-color: #00af00\">0</span> │ positional_embed… │\n",
       "│                     │                   │            │ multi_head_atten… │\n",
       "├─────────────────────┼───────────────────┼────────────┼───────────────────┤\n",
       "│ dropout_1 (<span style=\"color: #0087ff; text-decoration-color: #0087ff\">Dropout</span>) │ (<span style=\"color: #00d7ff; text-decoration-color: #00d7ff\">None</span>, <span style=\"color: #00af00; text-decoration-color: #00af00\">50</span>, <span style=\"color: #00af00; text-decoration-color: #00af00\">128</span>)   │          <span style=\"color: #00af00; text-decoration-color: #00af00\">0</span> │ add[<span style=\"color: #00af00; text-decoration-color: #00af00\">0</span>][<span style=\"color: #00af00; text-decoration-color: #00af00\">0</span>]         │\n",
       "├─────────────────────┼───────────────────┼────────────┼───────────────────┤\n",
       "│ layer_normalizatio… │ (<span style=\"color: #00d7ff; text-decoration-color: #00d7ff\">None</span>, <span style=\"color: #00af00; text-decoration-color: #00af00\">50</span>, <span style=\"color: #00af00; text-decoration-color: #00af00\">128</span>)   │        <span style=\"color: #00af00; text-decoration-color: #00af00\">256</span> │ dropout_1[<span style=\"color: #00af00; text-decoration-color: #00af00\">0</span>][<span style=\"color: #00af00; text-decoration-color: #00af00\">0</span>]   │\n",
       "│ (<span style=\"color: #0087ff; text-decoration-color: #0087ff\">LayerNormalizatio…</span> │                   │            │                   │\n",
       "├─────────────────────┼───────────────────┼────────────┼───────────────────┤\n",
       "│ dense_1 (<span style=\"color: #0087ff; text-decoration-color: #0087ff\">Dense</span>)     │ (<span style=\"color: #00d7ff; text-decoration-color: #00d7ff\">None</span>, <span style=\"color: #00af00; text-decoration-color: #00af00\">50</span>, <span style=\"color: #00af00; text-decoration-color: #00af00\">512</span>)   │     <span style=\"color: #00af00; text-decoration-color: #00af00\">66,048</span> │ layer_normalizat… │\n",
       "├─────────────────────┼───────────────────┼────────────┼───────────────────┤\n",
       "│ dense_2 (<span style=\"color: #0087ff; text-decoration-color: #0087ff\">Dense</span>)     │ (<span style=\"color: #00d7ff; text-decoration-color: #00d7ff\">None</span>, <span style=\"color: #00af00; text-decoration-color: #00af00\">50</span>, <span style=\"color: #00af00; text-decoration-color: #00af00\">128</span>)   │     <span style=\"color: #00af00; text-decoration-color: #00af00\">65,664</span> │ dense_1[<span style=\"color: #00af00; text-decoration-color: #00af00\">0</span>][<span style=\"color: #00af00; text-decoration-color: #00af00\">0</span>]     │\n",
       "├─────────────────────┼───────────────────┼────────────┼───────────────────┤\n",
       "│ add_1 (<span style=\"color: #0087ff; text-decoration-color: #0087ff\">Add</span>)         │ (<span style=\"color: #00d7ff; text-decoration-color: #00d7ff\">None</span>, <span style=\"color: #00af00; text-decoration-color: #00af00\">50</span>, <span style=\"color: #00af00; text-decoration-color: #00af00\">128</span>)   │          <span style=\"color: #00af00; text-decoration-color: #00af00\">0</span> │ dropout_1[<span style=\"color: #00af00; text-decoration-color: #00af00\">0</span>][<span style=\"color: #00af00; text-decoration-color: #00af00\">0</span>],  │\n",
       "│                     │                   │            │ dense_2[<span style=\"color: #00af00; text-decoration-color: #00af00\">0</span>][<span style=\"color: #00af00; text-decoration-color: #00af00\">0</span>]     │\n",
       "├─────────────────────┼───────────────────┼────────────┼───────────────────┤\n",
       "│ dropout_2 (<span style=\"color: #0087ff; text-decoration-color: #0087ff\">Dropout</span>) │ (<span style=\"color: #00d7ff; text-decoration-color: #00d7ff\">None</span>, <span style=\"color: #00af00; text-decoration-color: #00af00\">50</span>, <span style=\"color: #00af00; text-decoration-color: #00af00\">128</span>)   │          <span style=\"color: #00af00; text-decoration-color: #00af00\">0</span> │ add_1[<span style=\"color: #00af00; text-decoration-color: #00af00\">0</span>][<span style=\"color: #00af00; text-decoration-color: #00af00\">0</span>]       │\n",
       "├─────────────────────┼───────────────────┼────────────┼───────────────────┤\n",
       "│ get_item (<span style=\"color: #0087ff; text-decoration-color: #0087ff\">GetItem</span>)  │ (<span style=\"color: #00d7ff; text-decoration-color: #00d7ff\">None</span>, <span style=\"color: #00af00; text-decoration-color: #00af00\">128</span>)       │          <span style=\"color: #00af00; text-decoration-color: #00af00\">0</span> │ dropout_2[<span style=\"color: #00af00; text-decoration-color: #00af00\">0</span>][<span style=\"color: #00af00; text-decoration-color: #00af00\">0</span>]   │\n",
       "├─────────────────────┼───────────────────┼────────────┼───────────────────┤\n",
       "│ dense_3 (<span style=\"color: #0087ff; text-decoration-color: #0087ff\">Dense</span>)     │ (<span style=\"color: #00d7ff; text-decoration-color: #00d7ff\">None</span>, <span style=\"color: #00af00; text-decoration-color: #00af00\">3707</span>)      │    <span style=\"color: #00af00; text-decoration-color: #00af00\">478,203</span> │ get_item[<span style=\"color: #00af00; text-decoration-color: #00af00\">0</span>][<span style=\"color: #00af00; text-decoration-color: #00af00\">0</span>]    │\n",
       "└─────────────────────┴───────────────────┴────────────┴───────────────────┘\n",
       "</pre>\n"
      ],
      "text/plain": [
       "┏━━━━━━━━━━━━━━━━━━━━━┳━━━━━━━━━━━━━━━━━━━┳━━━━━━━━━━━━┳━━━━━━━━━━━━━━━━━━━┓\n",
       "┃\u001b[1m \u001b[0m\u001b[1mLayer (type)       \u001b[0m\u001b[1m \u001b[0m┃\u001b[1m \u001b[0m\u001b[1mOutput Shape     \u001b[0m\u001b[1m \u001b[0m┃\u001b[1m \u001b[0m\u001b[1m   Param #\u001b[0m\u001b[1m \u001b[0m┃\u001b[1m \u001b[0m\u001b[1mConnected to     \u001b[0m\u001b[1m \u001b[0m┃\n",
       "┡━━━━━━━━━━━━━━━━━━━━━╇━━━━━━━━━━━━━━━━━━━╇━━━━━━━━━━━━╇━━━━━━━━━━━━━━━━━━━┩\n",
       "│ input_layer_1       │ (\u001b[38;5;45mNone\u001b[0m, \u001b[38;5;34m50\u001b[0m)        │          \u001b[38;5;34m0\u001b[0m │ -                 │\n",
       "│ (\u001b[38;5;33mInputLayer\u001b[0m)        │                   │            │                   │\n",
       "├─────────────────────┼───────────────────┼────────────┼───────────────────┤\n",
       "│ embedding           │ (\u001b[38;5;45mNone\u001b[0m, \u001b[38;5;34m50\u001b[0m, \u001b[38;5;34m128\u001b[0m)   │    \u001b[38;5;34m474,496\u001b[0m │ input_layer_1[\u001b[38;5;34m0\u001b[0m]… │\n",
       "│ (\u001b[38;5;33mEmbedding\u001b[0m)         │                   │            │                   │\n",
       "├─────────────────────┼───────────────────┼────────────┼───────────────────┤\n",
       "│ positional_embeddi… │ (\u001b[38;5;45mNone\u001b[0m, \u001b[38;5;34m50\u001b[0m, \u001b[38;5;34m128\u001b[0m)   │      \u001b[38;5;34m6,400\u001b[0m │ embedding[\u001b[38;5;34m0\u001b[0m][\u001b[38;5;34m0\u001b[0m]   │\n",
       "│ (\u001b[38;5;33mPositionalEmbeddi…\u001b[0m │                   │            │                   │\n",
       "├─────────────────────┼───────────────────┼────────────┼───────────────────┤\n",
       "│ layer_normalization │ (\u001b[38;5;45mNone\u001b[0m, \u001b[38;5;34m50\u001b[0m, \u001b[38;5;34m128\u001b[0m)   │        \u001b[38;5;34m256\u001b[0m │ positional_embed… │\n",
       "│ (\u001b[38;5;33mLayerNormalizatio…\u001b[0m │                   │            │                   │\n",
       "├─────────────────────┼───────────────────┼────────────┼───────────────────┤\n",
       "│ multi_head_attenti… │ (\u001b[38;5;45mNone\u001b[0m, \u001b[38;5;34m50\u001b[0m, \u001b[38;5;34m128\u001b[0m)   │    \u001b[38;5;34m263,808\u001b[0m │ layer_normalizat… │\n",
       "│ (\u001b[38;5;33mMultiHeadAttentio…\u001b[0m │                   │            │ layer_normalizat… │\n",
       "├─────────────────────┼───────────────────┼────────────┼───────────────────┤\n",
       "│ add (\u001b[38;5;33mAdd\u001b[0m)           │ (\u001b[38;5;45mNone\u001b[0m, \u001b[38;5;34m50\u001b[0m, \u001b[38;5;34m128\u001b[0m)   │          \u001b[38;5;34m0\u001b[0m │ positional_embed… │\n",
       "│                     │                   │            │ multi_head_atten… │\n",
       "├─────────────────────┼───────────────────┼────────────┼───────────────────┤\n",
       "│ dropout_1 (\u001b[38;5;33mDropout\u001b[0m) │ (\u001b[38;5;45mNone\u001b[0m, \u001b[38;5;34m50\u001b[0m, \u001b[38;5;34m128\u001b[0m)   │          \u001b[38;5;34m0\u001b[0m │ add[\u001b[38;5;34m0\u001b[0m][\u001b[38;5;34m0\u001b[0m]         │\n",
       "├─────────────────────┼───────────────────┼────────────┼───────────────────┤\n",
       "│ layer_normalizatio… │ (\u001b[38;5;45mNone\u001b[0m, \u001b[38;5;34m50\u001b[0m, \u001b[38;5;34m128\u001b[0m)   │        \u001b[38;5;34m256\u001b[0m │ dropout_1[\u001b[38;5;34m0\u001b[0m][\u001b[38;5;34m0\u001b[0m]   │\n",
       "│ (\u001b[38;5;33mLayerNormalizatio…\u001b[0m │                   │            │                   │\n",
       "├─────────────────────┼───────────────────┼────────────┼───────────────────┤\n",
       "│ dense_1 (\u001b[38;5;33mDense\u001b[0m)     │ (\u001b[38;5;45mNone\u001b[0m, \u001b[38;5;34m50\u001b[0m, \u001b[38;5;34m512\u001b[0m)   │     \u001b[38;5;34m66,048\u001b[0m │ layer_normalizat… │\n",
       "├─────────────────────┼───────────────────┼────────────┼───────────────────┤\n",
       "│ dense_2 (\u001b[38;5;33mDense\u001b[0m)     │ (\u001b[38;5;45mNone\u001b[0m, \u001b[38;5;34m50\u001b[0m, \u001b[38;5;34m128\u001b[0m)   │     \u001b[38;5;34m65,664\u001b[0m │ dense_1[\u001b[38;5;34m0\u001b[0m][\u001b[38;5;34m0\u001b[0m]     │\n",
       "├─────────────────────┼───────────────────┼────────────┼───────────────────┤\n",
       "│ add_1 (\u001b[38;5;33mAdd\u001b[0m)         │ (\u001b[38;5;45mNone\u001b[0m, \u001b[38;5;34m50\u001b[0m, \u001b[38;5;34m128\u001b[0m)   │          \u001b[38;5;34m0\u001b[0m │ dropout_1[\u001b[38;5;34m0\u001b[0m][\u001b[38;5;34m0\u001b[0m],  │\n",
       "│                     │                   │            │ dense_2[\u001b[38;5;34m0\u001b[0m][\u001b[38;5;34m0\u001b[0m]     │\n",
       "├─────────────────────┼───────────────────┼────────────┼───────────────────┤\n",
       "│ dropout_2 (\u001b[38;5;33mDropout\u001b[0m) │ (\u001b[38;5;45mNone\u001b[0m, \u001b[38;5;34m50\u001b[0m, \u001b[38;5;34m128\u001b[0m)   │          \u001b[38;5;34m0\u001b[0m │ add_1[\u001b[38;5;34m0\u001b[0m][\u001b[38;5;34m0\u001b[0m]       │\n",
       "├─────────────────────┼───────────────────┼────────────┼───────────────────┤\n",
       "│ get_item (\u001b[38;5;33mGetItem\u001b[0m)  │ (\u001b[38;5;45mNone\u001b[0m, \u001b[38;5;34m128\u001b[0m)       │          \u001b[38;5;34m0\u001b[0m │ dropout_2[\u001b[38;5;34m0\u001b[0m][\u001b[38;5;34m0\u001b[0m]   │\n",
       "├─────────────────────┼───────────────────┼────────────┼───────────────────┤\n",
       "│ dense_3 (\u001b[38;5;33mDense\u001b[0m)     │ (\u001b[38;5;45mNone\u001b[0m, \u001b[38;5;34m3707\u001b[0m)      │    \u001b[38;5;34m478,203\u001b[0m │ get_item[\u001b[38;5;34m0\u001b[0m][\u001b[38;5;34m0\u001b[0m]    │\n",
       "└─────────────────────┴───────────────────┴────────────┴───────────────────┘\n"
      ]
     },
     "metadata": {},
     "output_type": "display_data"
    },
    {
     "data": {
      "text/html": [
       "<pre style=\"white-space:pre;overflow-x:auto;line-height:normal;font-family:Menlo,'DejaVu Sans Mono',consolas,'Courier New',monospace\"><span style=\"font-weight: bold\"> Total params: </span><span style=\"color: #00af00; text-decoration-color: #00af00\">1,355,131</span> (5.17 MB)\n",
       "</pre>\n"
      ],
      "text/plain": [
       "\u001b[1m Total params: \u001b[0m\u001b[38;5;34m1,355,131\u001b[0m (5.17 MB)\n"
      ]
     },
     "metadata": {},
     "output_type": "display_data"
    },
    {
     "data": {
      "text/html": [
       "<pre style=\"white-space:pre;overflow-x:auto;line-height:normal;font-family:Menlo,'DejaVu Sans Mono',consolas,'Courier New',monospace\"><span style=\"font-weight: bold\"> Trainable params: </span><span style=\"color: #00af00; text-decoration-color: #00af00\">1,355,131</span> (5.17 MB)\n",
       "</pre>\n"
      ],
      "text/plain": [
       "\u001b[1m Trainable params: \u001b[0m\u001b[38;5;34m1,355,131\u001b[0m (5.17 MB)\n"
      ]
     },
     "metadata": {},
     "output_type": "display_data"
    },
    {
     "data": {
      "text/html": [
       "<pre style=\"white-space:pre;overflow-x:auto;line-height:normal;font-family:Menlo,'DejaVu Sans Mono',consolas,'Courier New',monospace\"><span style=\"font-weight: bold\"> Non-trainable params: </span><span style=\"color: #00af00; text-decoration-color: #00af00\">0</span> (0.00 B)\n",
       "</pre>\n"
      ],
      "text/plain": [
       "\u001b[1m Non-trainable params: \u001b[0m\u001b[38;5;34m0\u001b[0m (0.00 B)\n"
      ]
     },
     "metadata": {},
     "output_type": "display_data"
    },
    {
     "name": "stdout",
     "output_type": "stream",
     "text": [
      "None\n",
      "You must install graphviz (see instructions at https://graphviz.gitlab.io/download/) for `plot_model` to work.\n"
     ]
    },
    {
     "name": "stderr",
     "output_type": "stream",
     "text": [
      "  0%|          | 0/5 [00:00<?, ?epoch/s]"
     ]
    },
    {
     "name": "stdout",
     "output_type": "stream",
     "text": [
      "Epoch 1/5\n",
      "\u001b[1m 99/100\u001b[0m \u001b[32m━━━━━━━━━━━━━━━━━━━\u001b[0m\u001b[37m━\u001b[0m \u001b[1m0s\u001b[0m 22ms/step - accuracy: 0.0053 - loss: 7.9876"
     ]
    },
    {
     "name": "stderr",
     "output_type": "stream",
     "text": [
      " 20%|██        | 1/5 [00:04<00:17,  4.42s/epoch, accuracy=0.00625, loss=7.81]"
     ]
    },
    {
     "name": "stdout",
     "output_type": "stream",
     "text": [
      "\u001b[1m100/100\u001b[0m \u001b[32m━━━━━━━━━━━━━━━━━━━━\u001b[0m\u001b[37m\u001b[0m \u001b[1m4s\u001b[0m 22ms/step - accuracy: 0.0053 - loss: 7.9840\n",
      "Epoch 2/5\n",
      "\u001b[1m 99/100\u001b[0m \u001b[32m━━━━━━━━━━━━━━━━━━━\u001b[0m\u001b[37m━\u001b[0m \u001b[1m0s\u001b[0m 22ms/step - accuracy: 0.0077 - loss: 7.6233"
     ]
    },
    {
     "name": "stderr",
     "output_type": "stream",
     "text": [
      " 40%|████      | 2/5 [00:06<00:09,  3.10s/epoch, accuracy=0.00563, loss=7.58]"
     ]
    },
    {
     "name": "stdout",
     "output_type": "stream",
     "text": [
      "\u001b[1m100/100\u001b[0m \u001b[32m━━━━━━━━━━━━━━━━━━━━\u001b[0m\u001b[37m\u001b[0m \u001b[1m2s\u001b[0m 22ms/step - accuracy: 0.0077 - loss: 7.6224\n",
      "Epoch 3/5\n",
      "\u001b[1m 98/100\u001b[0m \u001b[32m━━━━━━━━━━━━━━━━━━━\u001b[0m\u001b[37m━\u001b[0m \u001b[1m0s\u001b[0m 22ms/step - accuracy: 0.0117 - loss: 7.0276"
     ]
    },
    {
     "name": "stderr",
     "output_type": "stream",
     "text": [
      " 60%|██████    | 3/5 [00:08<00:05,  2.66s/epoch, accuracy=0.00969, loss=7.04]"
     ]
    },
    {
     "name": "stdout",
     "output_type": "stream",
     "text": [
      "\u001b[1m100/100\u001b[0m \u001b[32m━━━━━━━━━━━━━━━━━━━━\u001b[0m\u001b[37m\u001b[0m \u001b[1m2s\u001b[0m 22ms/step - accuracy: 0.0116 - loss: 7.0279\n",
      "Epoch 4/5\n",
      "\u001b[1m 98/100\u001b[0m \u001b[32m━━━━━━━━━━━━━━━━━━━\u001b[0m\u001b[37m━\u001b[0m \u001b[1m0s\u001b[0m 22ms/step - accuracy: 0.0133 - loss: 7.0455"
     ]
    },
    {
     "name": "stderr",
     "output_type": "stream",
     "text": [
      " 80%|████████  | 4/5 [00:10<00:02,  2.47s/epoch, accuracy=0.0134, loss=6.97] "
     ]
    },
    {
     "name": "stdout",
     "output_type": "stream",
     "text": [
      "\u001b[1m100/100\u001b[0m \u001b[32m━━━━━━━━━━━━━━━━━━━━\u001b[0m\u001b[37m\u001b[0m \u001b[1m2s\u001b[0m 22ms/step - accuracy: 0.0133 - loss: 7.0431\n",
      "Epoch 5/5\n",
      "\u001b[1m 99/100\u001b[0m \u001b[32m━━━━━━━━━━━━━━━━━━━\u001b[0m\u001b[37m━\u001b[0m \u001b[1m0s\u001b[0m 22ms/step - accuracy: 0.0169 - loss: 6.6385"
     ]
    },
    {
     "name": "stderr",
     "output_type": "stream",
     "text": [
      "100%|██████████| 5/5 [00:13<00:00,  2.37s/epoch, accuracy=0.0162, loss=6.67]"
     ]
    },
    {
     "name": "stdout",
     "output_type": "stream",
     "text": [
      "\u001b[1m100/100\u001b[0m \u001b[32m━━━━━━━━━━━━━━━━━━━━\u001b[0m\u001b[37m\u001b[0m \u001b[1m2s\u001b[0m 22ms/step - accuracy: 0.0169 - loss: 6.6391\n"
     ]
    },
    {
     "name": "stderr",
     "output_type": "stream",
     "text": [
      "100%|██████████| 5/5 [00:13<00:00,  2.62s/epoch, accuracy=0.0162, loss=6.67]\n"
     ]
    },
    {
     "name": "stdout",
     "output_type": "stream",
     "text": [
      "Testing TransformerRecommender (top 10)\n",
      "Four example recommendations:\n",
      "    User 1 -> <2011:0.0057 2627:0.0052 1616:0.0049 2761:0.0044 3526:0.0042 2616:0.0037 3551:0.0037 2857:0.0035 3867:0.0033 2354:0.0033>\n",
      "    User 2 -> <3808:0.0221 3272:0.01 2395:0.0094 3767:0.0075 2391:0.0063 3670:0.006 2715:0.0056 1916:0.0053 3395:0.005 2718:0.005>\n",
      "    User 3 -> <2761:0.0438 3526:0.0242 3867:0.016 3792:0.0158 2627:0.0155 3702:0.0145 3752:0.0137 3701:0.0128 1616:0.0127 2790:0.0125>\n",
      "    User 4 -> <3255:0.0506 2570:0.0297 1616:0.0295 3526:0.0255 2616:0.0181 2761:0.018 3159:0.0141 2627:0.0129 3174:0.0129 3752:0.012>\n",
      "Precision@10 = 0.0009602649006622518\n",
      "Recall@10 = 0.009602649006622516\n",
      "CategoricalAccuracy@1 = 0.12798013\n",
      "CategoricalAccuracy@3 = 0.33129138\n",
      "CategoricalAccuracy@10 = 1.0\n",
      "\u001b[34m--> elapsed time: 0:00:22 <--\u001b[0m\n",
      "-------------------------\n"
     ]
    },
    {
     "data": {
      "text/html": [
       "<pre style=\"white-space:pre;overflow-x:auto;line-height:normal;font-family:Menlo,'DejaVu Sans Mono',consolas,'Courier New',monospace\"><span style=\"font-weight: bold\">Model: \"Transformer\"</span>\n",
       "</pre>\n"
      ],
      "text/plain": [
       "\u001b[1mModel: \"Transformer\"\u001b[0m\n"
      ]
     },
     "metadata": {},
     "output_type": "display_data"
    },
    {
     "data": {
      "text/html": [
       "<pre style=\"white-space:pre;overflow-x:auto;line-height:normal;font-family:Menlo,'DejaVu Sans Mono',consolas,'Courier New',monospace\">┏━━━━━━━━━━━━━━━━━━━━━┳━━━━━━━━━━━━━━━━━━━┳━━━━━━━━━━━━┳━━━━━━━━━━━━━━━━━━━┓\n",
       "┃<span style=\"font-weight: bold\"> Layer (type)        </span>┃<span style=\"font-weight: bold\"> Output Shape      </span>┃<span style=\"font-weight: bold\">    Param # </span>┃<span style=\"font-weight: bold\"> Connected to      </span>┃\n",
       "┡━━━━━━━━━━━━━━━━━━━━━╇━━━━━━━━━━━━━━━━━━━╇━━━━━━━━━━━━╇━━━━━━━━━━━━━━━━━━━┩\n",
       "│ input_layer_2       │ (<span style=\"color: #00d7ff; text-decoration-color: #00d7ff\">None</span>, <span style=\"color: #00af00; text-decoration-color: #00af00\">50</span>)        │          <span style=\"color: #00af00; text-decoration-color: #00af00\">0</span> │ -                 │\n",
       "│ (<span style=\"color: #0087ff; text-decoration-color: #0087ff\">InputLayer</span>)        │                   │            │                   │\n",
       "├─────────────────────┼───────────────────┼────────────┼───────────────────┤\n",
       "│ embedding_2         │ (<span style=\"color: #00d7ff; text-decoration-color: #00d7ff\">None</span>, <span style=\"color: #00af00; text-decoration-color: #00af00\">50</span>, <span style=\"color: #00af00; text-decoration-color: #00af00\">128</span>)   │    <span style=\"color: #00af00; text-decoration-color: #00af00\">474,496</span> │ input_layer_2[<span style=\"color: #00af00; text-decoration-color: #00af00\">0</span>]… │\n",
       "│ (<span style=\"color: #0087ff; text-decoration-color: #0087ff\">Embedding</span>)         │                   │            │                   │\n",
       "├─────────────────────┼───────────────────┼────────────┼───────────────────┤\n",
       "│ positional_embeddi… │ (<span style=\"color: #00d7ff; text-decoration-color: #00d7ff\">None</span>, <span style=\"color: #00af00; text-decoration-color: #00af00\">50</span>, <span style=\"color: #00af00; text-decoration-color: #00af00\">128</span>)   │      <span style=\"color: #00af00; text-decoration-color: #00af00\">6,400</span> │ embedding_2[<span style=\"color: #00af00; text-decoration-color: #00af00\">0</span>][<span style=\"color: #00af00; text-decoration-color: #00af00\">0</span>] │\n",
       "│ (<span style=\"color: #0087ff; text-decoration-color: #0087ff\">PositionalEmbeddi…</span> │                   │            │                   │\n",
       "├─────────────────────┼───────────────────┼────────────┼───────────────────┤\n",
       "│ layer_normalizatio… │ (<span style=\"color: #00d7ff; text-decoration-color: #00d7ff\">None</span>, <span style=\"color: #00af00; text-decoration-color: #00af00\">50</span>, <span style=\"color: #00af00; text-decoration-color: #00af00\">128</span>)   │        <span style=\"color: #00af00; text-decoration-color: #00af00\">256</span> │ positional_embed… │\n",
       "│ (<span style=\"color: #0087ff; text-decoration-color: #0087ff\">LayerNormalizatio…</span> │                   │            │                   │\n",
       "├─────────────────────┼───────────────────┼────────────┼───────────────────┤\n",
       "│ multi_head_attenti… │ (<span style=\"color: #00d7ff; text-decoration-color: #00d7ff\">None</span>, <span style=\"color: #00af00; text-decoration-color: #00af00\">50</span>, <span style=\"color: #00af00; text-decoration-color: #00af00\">128</span>)   │    <span style=\"color: #00af00; text-decoration-color: #00af00\">263,808</span> │ layer_normalizat… │\n",
       "│ (<span style=\"color: #0087ff; text-decoration-color: #0087ff\">MultiHeadAttentio…</span> │                   │            │ layer_normalizat… │\n",
       "├─────────────────────┼───────────────────┼────────────┼───────────────────┤\n",
       "│ add_2 (<span style=\"color: #0087ff; text-decoration-color: #0087ff\">Add</span>)         │ (<span style=\"color: #00d7ff; text-decoration-color: #00d7ff\">None</span>, <span style=\"color: #00af00; text-decoration-color: #00af00\">50</span>, <span style=\"color: #00af00; text-decoration-color: #00af00\">128</span>)   │          <span style=\"color: #00af00; text-decoration-color: #00af00\">0</span> │ positional_embed… │\n",
       "│                     │                   │            │ multi_head_atten… │\n",
       "├─────────────────────┼───────────────────┼────────────┼───────────────────┤\n",
       "│ dropout_4 (<span style=\"color: #0087ff; text-decoration-color: #0087ff\">Dropout</span>) │ (<span style=\"color: #00d7ff; text-decoration-color: #00d7ff\">None</span>, <span style=\"color: #00af00; text-decoration-color: #00af00\">50</span>, <span style=\"color: #00af00; text-decoration-color: #00af00\">128</span>)   │          <span style=\"color: #00af00; text-decoration-color: #00af00\">0</span> │ add_2[<span style=\"color: #00af00; text-decoration-color: #00af00\">0</span>][<span style=\"color: #00af00; text-decoration-color: #00af00\">0</span>]       │\n",
       "├─────────────────────┼───────────────────┼────────────┼───────────────────┤\n",
       "│ layer_normalizatio… │ (<span style=\"color: #00d7ff; text-decoration-color: #00d7ff\">None</span>, <span style=\"color: #00af00; text-decoration-color: #00af00\">50</span>, <span style=\"color: #00af00; text-decoration-color: #00af00\">128</span>)   │        <span style=\"color: #00af00; text-decoration-color: #00af00\">256</span> │ dropout_4[<span style=\"color: #00af00; text-decoration-color: #00af00\">0</span>][<span style=\"color: #00af00; text-decoration-color: #00af00\">0</span>]   │\n",
       "│ (<span style=\"color: #0087ff; text-decoration-color: #0087ff\">LayerNormalizatio…</span> │                   │            │                   │\n",
       "├─────────────────────┼───────────────────┼────────────┼───────────────────┤\n",
       "│ dense_4 (<span style=\"color: #0087ff; text-decoration-color: #0087ff\">Dense</span>)     │ (<span style=\"color: #00d7ff; text-decoration-color: #00d7ff\">None</span>, <span style=\"color: #00af00; text-decoration-color: #00af00\">50</span>, <span style=\"color: #00af00; text-decoration-color: #00af00\">512</span>)   │     <span style=\"color: #00af00; text-decoration-color: #00af00\">66,048</span> │ layer_normalizat… │\n",
       "├─────────────────────┼───────────────────┼────────────┼───────────────────┤\n",
       "│ dense_5 (<span style=\"color: #0087ff; text-decoration-color: #0087ff\">Dense</span>)     │ (<span style=\"color: #00d7ff; text-decoration-color: #00d7ff\">None</span>, <span style=\"color: #00af00; text-decoration-color: #00af00\">50</span>, <span style=\"color: #00af00; text-decoration-color: #00af00\">128</span>)   │     <span style=\"color: #00af00; text-decoration-color: #00af00\">65,664</span> │ dense_4[<span style=\"color: #00af00; text-decoration-color: #00af00\">0</span>][<span style=\"color: #00af00; text-decoration-color: #00af00\">0</span>]     │\n",
       "├─────────────────────┼───────────────────┼────────────┼───────────────────┤\n",
       "│ add_3 (<span style=\"color: #0087ff; text-decoration-color: #0087ff\">Add</span>)         │ (<span style=\"color: #00d7ff; text-decoration-color: #00d7ff\">None</span>, <span style=\"color: #00af00; text-decoration-color: #00af00\">50</span>, <span style=\"color: #00af00; text-decoration-color: #00af00\">128</span>)   │          <span style=\"color: #00af00; text-decoration-color: #00af00\">0</span> │ dropout_4[<span style=\"color: #00af00; text-decoration-color: #00af00\">0</span>][<span style=\"color: #00af00; text-decoration-color: #00af00\">0</span>],  │\n",
       "│                     │                   │            │ dense_5[<span style=\"color: #00af00; text-decoration-color: #00af00\">0</span>][<span style=\"color: #00af00; text-decoration-color: #00af00\">0</span>]     │\n",
       "├─────────────────────┼───────────────────┼────────────┼───────────────────┤\n",
       "│ dropout_5 (<span style=\"color: #0087ff; text-decoration-color: #0087ff\">Dropout</span>) │ (<span style=\"color: #00d7ff; text-decoration-color: #00d7ff\">None</span>, <span style=\"color: #00af00; text-decoration-color: #00af00\">50</span>, <span style=\"color: #00af00; text-decoration-color: #00af00\">128</span>)   │          <span style=\"color: #00af00; text-decoration-color: #00af00\">0</span> │ add_3[<span style=\"color: #00af00; text-decoration-color: #00af00\">0</span>][<span style=\"color: #00af00; text-decoration-color: #00af00\">0</span>]       │\n",
       "├─────────────────────┼───────────────────┼────────────┼───────────────────┤\n",
       "│ layer_normalizatio… │ (<span style=\"color: #00d7ff; text-decoration-color: #00d7ff\">None</span>, <span style=\"color: #00af00; text-decoration-color: #00af00\">50</span>, <span style=\"color: #00af00; text-decoration-color: #00af00\">128</span>)   │        <span style=\"color: #00af00; text-decoration-color: #00af00\">256</span> │ dropout_5[<span style=\"color: #00af00; text-decoration-color: #00af00\">0</span>][<span style=\"color: #00af00; text-decoration-color: #00af00\">0</span>]   │\n",
       "│ (<span style=\"color: #0087ff; text-decoration-color: #0087ff\">LayerNormalizatio…</span> │                   │            │                   │\n",
       "├─────────────────────┼───────────────────┼────────────┼───────────────────┤\n",
       "│ multi_head_attenti… │ (<span style=\"color: #00d7ff; text-decoration-color: #00d7ff\">None</span>, <span style=\"color: #00af00; text-decoration-color: #00af00\">50</span>, <span style=\"color: #00af00; text-decoration-color: #00af00\">128</span>)   │    <span style=\"color: #00af00; text-decoration-color: #00af00\">263,808</span> │ layer_normalizat… │\n",
       "│ (<span style=\"color: #0087ff; text-decoration-color: #0087ff\">MultiHeadAttentio…</span> │                   │            │ layer_normalizat… │\n",
       "├─────────────────────┼───────────────────┼────────────┼───────────────────┤\n",
       "│ add_4 (<span style=\"color: #0087ff; text-decoration-color: #0087ff\">Add</span>)         │ (<span style=\"color: #00d7ff; text-decoration-color: #00d7ff\">None</span>, <span style=\"color: #00af00; text-decoration-color: #00af00\">50</span>, <span style=\"color: #00af00; text-decoration-color: #00af00\">128</span>)   │          <span style=\"color: #00af00; text-decoration-color: #00af00\">0</span> │ dropout_5[<span style=\"color: #00af00; text-decoration-color: #00af00\">0</span>][<span style=\"color: #00af00; text-decoration-color: #00af00\">0</span>],  │\n",
       "│                     │                   │            │ multi_head_atten… │\n",
       "├─────────────────────┼───────────────────┼────────────┼───────────────────┤\n",
       "│ dropout_7 (<span style=\"color: #0087ff; text-decoration-color: #0087ff\">Dropout</span>) │ (<span style=\"color: #00d7ff; text-decoration-color: #00d7ff\">None</span>, <span style=\"color: #00af00; text-decoration-color: #00af00\">50</span>, <span style=\"color: #00af00; text-decoration-color: #00af00\">128</span>)   │          <span style=\"color: #00af00; text-decoration-color: #00af00\">0</span> │ add_4[<span style=\"color: #00af00; text-decoration-color: #00af00\">0</span>][<span style=\"color: #00af00; text-decoration-color: #00af00\">0</span>]       │\n",
       "├─────────────────────┼───────────────────┼────────────┼───────────────────┤\n",
       "│ layer_normalizatio… │ (<span style=\"color: #00d7ff; text-decoration-color: #00d7ff\">None</span>, <span style=\"color: #00af00; text-decoration-color: #00af00\">50</span>, <span style=\"color: #00af00; text-decoration-color: #00af00\">128</span>)   │        <span style=\"color: #00af00; text-decoration-color: #00af00\">256</span> │ dropout_7[<span style=\"color: #00af00; text-decoration-color: #00af00\">0</span>][<span style=\"color: #00af00; text-decoration-color: #00af00\">0</span>]   │\n",
       "│ (<span style=\"color: #0087ff; text-decoration-color: #0087ff\">LayerNormalizatio…</span> │                   │            │                   │\n",
       "├─────────────────────┼───────────────────┼────────────┼───────────────────┤\n",
       "│ dense_6 (<span style=\"color: #0087ff; text-decoration-color: #0087ff\">Dense</span>)     │ (<span style=\"color: #00d7ff; text-decoration-color: #00d7ff\">None</span>, <span style=\"color: #00af00; text-decoration-color: #00af00\">50</span>, <span style=\"color: #00af00; text-decoration-color: #00af00\">512</span>)   │     <span style=\"color: #00af00; text-decoration-color: #00af00\">66,048</span> │ layer_normalizat… │\n",
       "├─────────────────────┼───────────────────┼────────────┼───────────────────┤\n",
       "│ dense_7 (<span style=\"color: #0087ff; text-decoration-color: #0087ff\">Dense</span>)     │ (<span style=\"color: #00d7ff; text-decoration-color: #00d7ff\">None</span>, <span style=\"color: #00af00; text-decoration-color: #00af00\">50</span>, <span style=\"color: #00af00; text-decoration-color: #00af00\">128</span>)   │     <span style=\"color: #00af00; text-decoration-color: #00af00\">65,664</span> │ dense_6[<span style=\"color: #00af00; text-decoration-color: #00af00\">0</span>][<span style=\"color: #00af00; text-decoration-color: #00af00\">0</span>]     │\n",
       "├─────────────────────┼───────────────────┼────────────┼───────────────────┤\n",
       "│ add_5 (<span style=\"color: #0087ff; text-decoration-color: #0087ff\">Add</span>)         │ (<span style=\"color: #00d7ff; text-decoration-color: #00d7ff\">None</span>, <span style=\"color: #00af00; text-decoration-color: #00af00\">50</span>, <span style=\"color: #00af00; text-decoration-color: #00af00\">128</span>)   │          <span style=\"color: #00af00; text-decoration-color: #00af00\">0</span> │ dropout_7[<span style=\"color: #00af00; text-decoration-color: #00af00\">0</span>][<span style=\"color: #00af00; text-decoration-color: #00af00\">0</span>],  │\n",
       "│                     │                   │            │ dense_7[<span style=\"color: #00af00; text-decoration-color: #00af00\">0</span>][<span style=\"color: #00af00; text-decoration-color: #00af00\">0</span>]     │\n",
       "├─────────────────────┼───────────────────┼────────────┼───────────────────┤\n",
       "│ dropout_8 (<span style=\"color: #0087ff; text-decoration-color: #0087ff\">Dropout</span>) │ (<span style=\"color: #00d7ff; text-decoration-color: #00d7ff\">None</span>, <span style=\"color: #00af00; text-decoration-color: #00af00\">50</span>, <span style=\"color: #00af00; text-decoration-color: #00af00\">128</span>)   │          <span style=\"color: #00af00; text-decoration-color: #00af00\">0</span> │ add_5[<span style=\"color: #00af00; text-decoration-color: #00af00\">0</span>][<span style=\"color: #00af00; text-decoration-color: #00af00\">0</span>]       │\n",
       "├─────────────────────┼───────────────────┼────────────┼───────────────────┤\n",
       "│ get_item_1          │ (<span style=\"color: #00d7ff; text-decoration-color: #00d7ff\">None</span>, <span style=\"color: #00af00; text-decoration-color: #00af00\">128</span>)       │          <span style=\"color: #00af00; text-decoration-color: #00af00\">0</span> │ dropout_8[<span style=\"color: #00af00; text-decoration-color: #00af00\">0</span>][<span style=\"color: #00af00; text-decoration-color: #00af00\">0</span>]   │\n",
       "│ (<span style=\"color: #0087ff; text-decoration-color: #0087ff\">GetItem</span>)           │                   │            │                   │\n",
       "├─────────────────────┼───────────────────┼────────────┼───────────────────┤\n",
       "│ dense_8 (<span style=\"color: #0087ff; text-decoration-color: #0087ff\">Dense</span>)     │ (<span style=\"color: #00d7ff; text-decoration-color: #00d7ff\">None</span>, <span style=\"color: #00af00; text-decoration-color: #00af00\">3707</span>)      │    <span style=\"color: #00af00; text-decoration-color: #00af00\">478,203</span> │ get_item_1[<span style=\"color: #00af00; text-decoration-color: #00af00\">0</span>][<span style=\"color: #00af00; text-decoration-color: #00af00\">0</span>]  │\n",
       "└─────────────────────┴───────────────────┴────────────┴───────────────────┘\n",
       "</pre>\n"
      ],
      "text/plain": [
       "┏━━━━━━━━━━━━━━━━━━━━━┳━━━━━━━━━━━━━━━━━━━┳━━━━━━━━━━━━┳━━━━━━━━━━━━━━━━━━━┓\n",
       "┃\u001b[1m \u001b[0m\u001b[1mLayer (type)       \u001b[0m\u001b[1m \u001b[0m┃\u001b[1m \u001b[0m\u001b[1mOutput Shape     \u001b[0m\u001b[1m \u001b[0m┃\u001b[1m \u001b[0m\u001b[1m   Param #\u001b[0m\u001b[1m \u001b[0m┃\u001b[1m \u001b[0m\u001b[1mConnected to     \u001b[0m\u001b[1m \u001b[0m┃\n",
       "┡━━━━━━━━━━━━━━━━━━━━━╇━━━━━━━━━━━━━━━━━━━╇━━━━━━━━━━━━╇━━━━━━━━━━━━━━━━━━━┩\n",
       "│ input_layer_2       │ (\u001b[38;5;45mNone\u001b[0m, \u001b[38;5;34m50\u001b[0m)        │          \u001b[38;5;34m0\u001b[0m │ -                 │\n",
       "│ (\u001b[38;5;33mInputLayer\u001b[0m)        │                   │            │                   │\n",
       "├─────────────────────┼───────────────────┼────────────┼───────────────────┤\n",
       "│ embedding_2         │ (\u001b[38;5;45mNone\u001b[0m, \u001b[38;5;34m50\u001b[0m, \u001b[38;5;34m128\u001b[0m)   │    \u001b[38;5;34m474,496\u001b[0m │ input_layer_2[\u001b[38;5;34m0\u001b[0m]… │\n",
       "│ (\u001b[38;5;33mEmbedding\u001b[0m)         │                   │            │                   │\n",
       "├─────────────────────┼───────────────────┼────────────┼───────────────────┤\n",
       "│ positional_embeddi… │ (\u001b[38;5;45mNone\u001b[0m, \u001b[38;5;34m50\u001b[0m, \u001b[38;5;34m128\u001b[0m)   │      \u001b[38;5;34m6,400\u001b[0m │ embedding_2[\u001b[38;5;34m0\u001b[0m][\u001b[38;5;34m0\u001b[0m] │\n",
       "│ (\u001b[38;5;33mPositionalEmbeddi…\u001b[0m │                   │            │                   │\n",
       "├─────────────────────┼───────────────────┼────────────┼───────────────────┤\n",
       "│ layer_normalizatio… │ (\u001b[38;5;45mNone\u001b[0m, \u001b[38;5;34m50\u001b[0m, \u001b[38;5;34m128\u001b[0m)   │        \u001b[38;5;34m256\u001b[0m │ positional_embed… │\n",
       "│ (\u001b[38;5;33mLayerNormalizatio…\u001b[0m │                   │            │                   │\n",
       "├─────────────────────┼───────────────────┼────────────┼───────────────────┤\n",
       "│ multi_head_attenti… │ (\u001b[38;5;45mNone\u001b[0m, \u001b[38;5;34m50\u001b[0m, \u001b[38;5;34m128\u001b[0m)   │    \u001b[38;5;34m263,808\u001b[0m │ layer_normalizat… │\n",
       "│ (\u001b[38;5;33mMultiHeadAttentio…\u001b[0m │                   │            │ layer_normalizat… │\n",
       "├─────────────────────┼───────────────────┼────────────┼───────────────────┤\n",
       "│ add_2 (\u001b[38;5;33mAdd\u001b[0m)         │ (\u001b[38;5;45mNone\u001b[0m, \u001b[38;5;34m50\u001b[0m, \u001b[38;5;34m128\u001b[0m)   │          \u001b[38;5;34m0\u001b[0m │ positional_embed… │\n",
       "│                     │                   │            │ multi_head_atten… │\n",
       "├─────────────────────┼───────────────────┼────────────┼───────────────────┤\n",
       "│ dropout_4 (\u001b[38;5;33mDropout\u001b[0m) │ (\u001b[38;5;45mNone\u001b[0m, \u001b[38;5;34m50\u001b[0m, \u001b[38;5;34m128\u001b[0m)   │          \u001b[38;5;34m0\u001b[0m │ add_2[\u001b[38;5;34m0\u001b[0m][\u001b[38;5;34m0\u001b[0m]       │\n",
       "├─────────────────────┼───────────────────┼────────────┼───────────────────┤\n",
       "│ layer_normalizatio… │ (\u001b[38;5;45mNone\u001b[0m, \u001b[38;5;34m50\u001b[0m, \u001b[38;5;34m128\u001b[0m)   │        \u001b[38;5;34m256\u001b[0m │ dropout_4[\u001b[38;5;34m0\u001b[0m][\u001b[38;5;34m0\u001b[0m]   │\n",
       "│ (\u001b[38;5;33mLayerNormalizatio…\u001b[0m │                   │            │                   │\n",
       "├─────────────────────┼───────────────────┼────────────┼───────────────────┤\n",
       "│ dense_4 (\u001b[38;5;33mDense\u001b[0m)     │ (\u001b[38;5;45mNone\u001b[0m, \u001b[38;5;34m50\u001b[0m, \u001b[38;5;34m512\u001b[0m)   │     \u001b[38;5;34m66,048\u001b[0m │ layer_normalizat… │\n",
       "├─────────────────────┼───────────────────┼────────────┼───────────────────┤\n",
       "│ dense_5 (\u001b[38;5;33mDense\u001b[0m)     │ (\u001b[38;5;45mNone\u001b[0m, \u001b[38;5;34m50\u001b[0m, \u001b[38;5;34m128\u001b[0m)   │     \u001b[38;5;34m65,664\u001b[0m │ dense_4[\u001b[38;5;34m0\u001b[0m][\u001b[38;5;34m0\u001b[0m]     │\n",
       "├─────────────────────┼───────────────────┼────────────┼───────────────────┤\n",
       "│ add_3 (\u001b[38;5;33mAdd\u001b[0m)         │ (\u001b[38;5;45mNone\u001b[0m, \u001b[38;5;34m50\u001b[0m, \u001b[38;5;34m128\u001b[0m)   │          \u001b[38;5;34m0\u001b[0m │ dropout_4[\u001b[38;5;34m0\u001b[0m][\u001b[38;5;34m0\u001b[0m],  │\n",
       "│                     │                   │            │ dense_5[\u001b[38;5;34m0\u001b[0m][\u001b[38;5;34m0\u001b[0m]     │\n",
       "├─────────────────────┼───────────────────┼────────────┼───────────────────┤\n",
       "│ dropout_5 (\u001b[38;5;33mDropout\u001b[0m) │ (\u001b[38;5;45mNone\u001b[0m, \u001b[38;5;34m50\u001b[0m, \u001b[38;5;34m128\u001b[0m)   │          \u001b[38;5;34m0\u001b[0m │ add_3[\u001b[38;5;34m0\u001b[0m][\u001b[38;5;34m0\u001b[0m]       │\n",
       "├─────────────────────┼───────────────────┼────────────┼───────────────────┤\n",
       "│ layer_normalizatio… │ (\u001b[38;5;45mNone\u001b[0m, \u001b[38;5;34m50\u001b[0m, \u001b[38;5;34m128\u001b[0m)   │        \u001b[38;5;34m256\u001b[0m │ dropout_5[\u001b[38;5;34m0\u001b[0m][\u001b[38;5;34m0\u001b[0m]   │\n",
       "│ (\u001b[38;5;33mLayerNormalizatio…\u001b[0m │                   │            │                   │\n",
       "├─────────────────────┼───────────────────┼────────────┼───────────────────┤\n",
       "│ multi_head_attenti… │ (\u001b[38;5;45mNone\u001b[0m, \u001b[38;5;34m50\u001b[0m, \u001b[38;5;34m128\u001b[0m)   │    \u001b[38;5;34m263,808\u001b[0m │ layer_normalizat… │\n",
       "│ (\u001b[38;5;33mMultiHeadAttentio…\u001b[0m │                   │            │ layer_normalizat… │\n",
       "├─────────────────────┼───────────────────┼────────────┼───────────────────┤\n",
       "│ add_4 (\u001b[38;5;33mAdd\u001b[0m)         │ (\u001b[38;5;45mNone\u001b[0m, \u001b[38;5;34m50\u001b[0m, \u001b[38;5;34m128\u001b[0m)   │          \u001b[38;5;34m0\u001b[0m │ dropout_5[\u001b[38;5;34m0\u001b[0m][\u001b[38;5;34m0\u001b[0m],  │\n",
       "│                     │                   │            │ multi_head_atten… │\n",
       "├─────────────────────┼───────────────────┼────────────┼───────────────────┤\n",
       "│ dropout_7 (\u001b[38;5;33mDropout\u001b[0m) │ (\u001b[38;5;45mNone\u001b[0m, \u001b[38;5;34m50\u001b[0m, \u001b[38;5;34m128\u001b[0m)   │          \u001b[38;5;34m0\u001b[0m │ add_4[\u001b[38;5;34m0\u001b[0m][\u001b[38;5;34m0\u001b[0m]       │\n",
       "├─────────────────────┼───────────────────┼────────────┼───────────────────┤\n",
       "│ layer_normalizatio… │ (\u001b[38;5;45mNone\u001b[0m, \u001b[38;5;34m50\u001b[0m, \u001b[38;5;34m128\u001b[0m)   │        \u001b[38;5;34m256\u001b[0m │ dropout_7[\u001b[38;5;34m0\u001b[0m][\u001b[38;5;34m0\u001b[0m]   │\n",
       "│ (\u001b[38;5;33mLayerNormalizatio…\u001b[0m │                   │            │                   │\n",
       "├─────────────────────┼───────────────────┼────────────┼───────────────────┤\n",
       "│ dense_6 (\u001b[38;5;33mDense\u001b[0m)     │ (\u001b[38;5;45mNone\u001b[0m, \u001b[38;5;34m50\u001b[0m, \u001b[38;5;34m512\u001b[0m)   │     \u001b[38;5;34m66,048\u001b[0m │ layer_normalizat… │\n",
       "├─────────────────────┼───────────────────┼────────────┼───────────────────┤\n",
       "│ dense_7 (\u001b[38;5;33mDense\u001b[0m)     │ (\u001b[38;5;45mNone\u001b[0m, \u001b[38;5;34m50\u001b[0m, \u001b[38;5;34m128\u001b[0m)   │     \u001b[38;5;34m65,664\u001b[0m │ dense_6[\u001b[38;5;34m0\u001b[0m][\u001b[38;5;34m0\u001b[0m]     │\n",
       "├─────────────────────┼───────────────────┼────────────┼───────────────────┤\n",
       "│ add_5 (\u001b[38;5;33mAdd\u001b[0m)         │ (\u001b[38;5;45mNone\u001b[0m, \u001b[38;5;34m50\u001b[0m, \u001b[38;5;34m128\u001b[0m)   │          \u001b[38;5;34m0\u001b[0m │ dropout_7[\u001b[38;5;34m0\u001b[0m][\u001b[38;5;34m0\u001b[0m],  │\n",
       "│                     │                   │            │ dense_7[\u001b[38;5;34m0\u001b[0m][\u001b[38;5;34m0\u001b[0m]     │\n",
       "├─────────────────────┼───────────────────┼────────────┼───────────────────┤\n",
       "│ dropout_8 (\u001b[38;5;33mDropout\u001b[0m) │ (\u001b[38;5;45mNone\u001b[0m, \u001b[38;5;34m50\u001b[0m, \u001b[38;5;34m128\u001b[0m)   │          \u001b[38;5;34m0\u001b[0m │ add_5[\u001b[38;5;34m0\u001b[0m][\u001b[38;5;34m0\u001b[0m]       │\n",
       "├─────────────────────┼───────────────────┼────────────┼───────────────────┤\n",
       "│ get_item_1          │ (\u001b[38;5;45mNone\u001b[0m, \u001b[38;5;34m128\u001b[0m)       │          \u001b[38;5;34m0\u001b[0m │ dropout_8[\u001b[38;5;34m0\u001b[0m][\u001b[38;5;34m0\u001b[0m]   │\n",
       "│ (\u001b[38;5;33mGetItem\u001b[0m)           │                   │            │                   │\n",
       "├─────────────────────┼───────────────────┼────────────┼───────────────────┤\n",
       "│ dense_8 (\u001b[38;5;33mDense\u001b[0m)     │ (\u001b[38;5;45mNone\u001b[0m, \u001b[38;5;34m3707\u001b[0m)      │    \u001b[38;5;34m478,203\u001b[0m │ get_item_1[\u001b[38;5;34m0\u001b[0m][\u001b[38;5;34m0\u001b[0m]  │\n",
       "└─────────────────────┴───────────────────┴────────────┴───────────────────┘\n"
      ]
     },
     "metadata": {},
     "output_type": "display_data"
    },
    {
     "data": {
      "text/html": [
       "<pre style=\"white-space:pre;overflow-x:auto;line-height:normal;font-family:Menlo,'DejaVu Sans Mono',consolas,'Courier New',monospace\"><span style=\"font-weight: bold\"> Total params: </span><span style=\"color: #00af00; text-decoration-color: #00af00\">1,751,163</span> (6.68 MB)\n",
       "</pre>\n"
      ],
      "text/plain": [
       "\u001b[1m Total params: \u001b[0m\u001b[38;5;34m1,751,163\u001b[0m (6.68 MB)\n"
      ]
     },
     "metadata": {},
     "output_type": "display_data"
    },
    {
     "data": {
      "text/html": [
       "<pre style=\"white-space:pre;overflow-x:auto;line-height:normal;font-family:Menlo,'DejaVu Sans Mono',consolas,'Courier New',monospace\"><span style=\"font-weight: bold\"> Trainable params: </span><span style=\"color: #00af00; text-decoration-color: #00af00\">1,751,163</span> (6.68 MB)\n",
       "</pre>\n"
      ],
      "text/plain": [
       "\u001b[1m Trainable params: \u001b[0m\u001b[38;5;34m1,751,163\u001b[0m (6.68 MB)\n"
      ]
     },
     "metadata": {},
     "output_type": "display_data"
    },
    {
     "data": {
      "text/html": [
       "<pre style=\"white-space:pre;overflow-x:auto;line-height:normal;font-family:Menlo,'DejaVu Sans Mono',consolas,'Courier New',monospace\"><span style=\"font-weight: bold\"> Non-trainable params: </span><span style=\"color: #00af00; text-decoration-color: #00af00\">0</span> (0.00 B)\n",
       "</pre>\n"
      ],
      "text/plain": [
       "\u001b[1m Non-trainable params: \u001b[0m\u001b[38;5;34m0\u001b[0m (0.00 B)\n"
      ]
     },
     "metadata": {},
     "output_type": "display_data"
    },
    {
     "name": "stdout",
     "output_type": "stream",
     "text": [
      "None\n",
      "You must install graphviz (see instructions at https://graphviz.gitlab.io/download/) for `plot_model` to work.\n"
     ]
    },
    {
     "name": "stderr",
     "output_type": "stream",
     "text": [
      "  0%|          | 0/5 [00:00<?, ?epoch/s]"
     ]
    },
    {
     "name": "stdout",
     "output_type": "stream",
     "text": [
      "Epoch 1/5\n",
      "\u001b[1m100/100\u001b[0m \u001b[32m━━━━━━━━━━━━━━━━━━━━\u001b[0m\u001b[37m\u001b[0m \u001b[1m0s\u001b[0m 40ms/step - accuracy: 0.0045 - loss: 8.0110"
     ]
    },
    {
     "name": "stderr",
     "output_type": "stream",
     "text": [
      " 20%|██        | 1/5 [00:07<00:30,  7.72s/epoch, accuracy=0.005, loss=7.84]"
     ]
    },
    {
     "name": "stdout",
     "output_type": "stream",
     "text": [
      "\u001b[1m100/100\u001b[0m \u001b[32m━━━━━━━━━━━━━━━━━━━━\u001b[0m\u001b[37m\u001b[0m \u001b[1m8s\u001b[0m 41ms/step - accuracy: 0.0045 - loss: 8.0093\n",
      "Epoch 2/5\n",
      "\u001b[1m100/100\u001b[0m \u001b[32m━━━━━━━━━━━━━━━━━━━━\u001b[0m\u001b[37m\u001b[0m \u001b[1m0s\u001b[0m 40ms/step - accuracy: 0.0073 - loss: 7.6888"
     ]
    },
    {
     "name": "stderr",
     "output_type": "stream",
     "text": [
      " 40%|████      | 2/5 [00:11<00:16,  5.52s/epoch, accuracy=0.005, loss=7.64]"
     ]
    },
    {
     "name": "stdout",
     "output_type": "stream",
     "text": [
      "\u001b[1m100/100\u001b[0m \u001b[32m━━━━━━━━━━━━━━━━━━━━\u001b[0m\u001b[37m\u001b[0m \u001b[1m4s\u001b[0m 40ms/step - accuracy: 0.0072 - loss: 7.6883\n",
      "Epoch 3/5\n",
      "\u001b[1m100/100\u001b[0m \u001b[32m━━━━━━━━━━━━━━━━━━━━\u001b[0m\u001b[37m\u001b[0m \u001b[1m0s\u001b[0m 40ms/step - accuracy: 0.0069 - loss: 7.0744"
     ]
    },
    {
     "name": "stderr",
     "output_type": "stream",
     "text": [
      " 60%|██████    | 3/5 [00:15<00:09,  4.85s/epoch, accuracy=0.0075, loss=7.14]"
     ]
    },
    {
     "name": "stdout",
     "output_type": "stream",
     "text": [
      "\u001b[1m100/100\u001b[0m \u001b[32m━━━━━━━━━━━━━━━━━━━━\u001b[0m\u001b[37m\u001b[0m \u001b[1m4s\u001b[0m 40ms/step - accuracy: 0.0069 - loss: 7.0750\n",
      "Epoch 4/5\n",
      "\u001b[1m 99/100\u001b[0m \u001b[32m━━━━━━━━━━━━━━━━━━━\u001b[0m\u001b[37m━\u001b[0m \u001b[1m0s\u001b[0m 41ms/step - accuracy: 0.0098 - loss: 7.1848"
     ]
    },
    {
     "name": "stderr",
     "output_type": "stream",
     "text": [
      " 80%|████████  | 4/5 [00:19<00:04,  4.57s/epoch, accuracy=0.00906, loss=7.09]"
     ]
    },
    {
     "name": "stdout",
     "output_type": "stream",
     "text": [
      "\u001b[1m100/100\u001b[0m \u001b[32m━━━━━━━━━━━━━━━━━━━━\u001b[0m\u001b[37m\u001b[0m \u001b[1m4s\u001b[0m 41ms/step - accuracy: 0.0098 - loss: 7.1829\n",
      "Epoch 5/5\n",
      "\u001b[1m 99/100\u001b[0m \u001b[32m━━━━━━━━━━━━━━━━━━━\u001b[0m\u001b[37m━\u001b[0m \u001b[1m0s\u001b[0m 40ms/step - accuracy: 0.0156 - loss: 6.7822"
     ]
    },
    {
     "name": "stderr",
     "output_type": "stream",
     "text": [
      "100%|██████████| 5/5 [00:23<00:00,  4.36s/epoch, accuracy=0.0122, loss=6.83] "
     ]
    },
    {
     "name": "stdout",
     "output_type": "stream",
     "text": [
      "\u001b[1m100/100\u001b[0m \u001b[32m━━━━━━━━━━━━━━━━━━━━\u001b[0m\u001b[37m\u001b[0m \u001b[1m4s\u001b[0m 40ms/step - accuracy: 0.0155 - loss: 6.7831\n"
     ]
    },
    {
     "name": "stderr",
     "output_type": "stream",
     "text": [
      "100%|██████████| 5/5 [00:23<00:00,  4.78s/epoch, accuracy=0.0122, loss=6.83]\n"
     ]
    },
    {
     "name": "stdout",
     "output_type": "stream",
     "text": [
      "Testing TransformerRecommender (top 10)\n",
      "Four example recommendations:\n",
      "    User 1 -> <3498:0.009 3362:0.0089 3896:0.0078 3670:0.0067 2986:0.0067 1392:0.0057 3749:0.0056 2699:0.0052 3577:0.0052 2761:0.0051>\n",
      "    User 2 -> <2806:0.0146 180:0.0106 3801:0.0101 1830:0.0093 2001:0.0092 1421:0.0078 1881:0.0077 2642:0.0075 3766:0.0075 2392:0.0073>\n",
      "    User 3 -> <3362:0.0099 3420:0.0097 3896:0.0092 3702:0.0063 2699:0.0056 1999:0.0055 2986:0.0048 2627:0.0047 3749:0.0045 2173:0.0044>\n",
      "    User 4 -> <2984:0.0068 180:0.0065 1881:0.0064 2642:0.0059 2627:0.0058 3701:0.0054 3623:0.0054 2950:0.0053 2477:0.0051 3840:0.005>\n",
      "Precision@10 = 0.000794701986754967\n",
      "Recall@10 = 0.007947019867549669\n",
      "CategoricalAccuracy@1 = 0.13592716\n",
      "CategoricalAccuracy@3 = 0.3213576\n",
      "CategoricalAccuracy@10 = 1.0\n",
      "\u001b[34m--> elapsed time: 0:00:34 <--\u001b[0m\n",
      "=========================\n",
      "Done.\n"
     ]
    }
   ],
   "source": [
    "import datetime, time\n",
    "import warnings\n",
    "warnings.filterwarnings(\"ignore\")\n",
    "\n",
    "class CategoricalAccuracy(Metric):\n",
    "    def __init__(self, test, cutoff=np.inf):\n",
    "        super().__init__(cutoff)\n",
    "        dataset = from_ratings_to_sequences(test)\n",
    "        y_true = np.empty(shape = (len(dataset), 1))\n",
    "        for i in range(y_true.shape[0]):\n",
    "            y_true[i, :] = dataset[i][:1]\n",
    "        self.y_true = tf.constant(y_true, dtype = tf.float32)\n",
    "\n",
    "    def compute(self, recommendation):\n",
    "        y_pred = tf.constant(recommendation.ranked_iidx(), dtype = tf.float32)\n",
    "        acc = (tf.reduce_sum(tf.keras.metrics.top_k_categorical_accuracy(self.y_true, y_pred, k = self.cutoff)) / self.y_true.shape[0]).numpy()\n",
    "        return acc\n",
    "\n",
    "\n",
    "# Test data structures and algorithms on a dataset.\n",
    "def test(ratings_file, topn=np.inf, cutoff=np.inf, threshold=1, sep=','):\n",
    "    print(colored(f'Reading the data at ' + time.strftime('%X...'), 'blue'))\n",
    "    start = time.time()\n",
    "    ratings = Ratings(ratings_file, sep)\n",
    "    print(f'Ratings matrix takes {round(10 * ratings.matrix().nbytes / 1024 / 1024) / 10:,} MB in RAM')\n",
    "    timer(start)\n",
    "\n",
    "    # Produce a rating split and test a set of recommenders. \n",
    "    train, test = ratings.random_split(0.8)\n",
    "    train_temp, test_temp = ratings.peruser_sequence_split(ntestitems=1)\n",
    "    metrics = [Precision(test, cutoff=cutoff, threshold=threshold), Recall(test, cutoff=cutoff, threshold=threshold)]\n",
    "    metrics_temp = [Precision(test_temp, cutoff=cutoff, threshold=threshold), Recall(test_temp, cutoff=cutoff, threshold=threshold), CategoricalAccuracy(test_temp, cutoff=1), CategoricalAccuracy(test_temp, cutoff=3), CategoricalAccuracy(test_temp, cutoff=cutoff)]\n",
    "    run_recommenders(train, metrics, topn)\n",
    "    run_temp_recommenders(train_temp, metrics_temp, topn)\n",
    "\n",
    "\n",
    "# Run some recommenders on the some rating data as input - no evaluation.\n",
    "def run_recommenders(train, metrics, topn):\n",
    "    print('-------------------------')\n",
    "    start = time.time()\n",
    "    run_recommender(DLMFRecommender(train, nepochs=5), metrics, topn)\n",
    "    start = timer(start)\n",
    "    \n",
    "    print('-------------------------')\n",
    "    run_recommender(TwoTowerRecommender(train, nepochs=5), metrics, topn)\n",
    "    start = timer(start)\n",
    "    \n",
    "    print('-------------------------')\n",
    "    run_recommender(Ease(train, threshold=1), metrics, topn)\n",
    "    timer(start)\n",
    "\n",
    "def run_temp_recommenders(train, metrics, topn):\n",
    "    print('-------------------------')\n",
    "    start = time.time()\n",
    "    run_recommender(GRU4RecRecommender(train, nepochs=5, session_length=None, batch_size=32), metrics, topn)\n",
    "    start = timer(start)\n",
    "    \n",
    "    print('-------------------------')\n",
    "    run_recommender(TransformerRecommender(train, nlayers=1), metrics, topn)\n",
    "    start = timer(start)\n",
    "    \n",
    "    print('-------------------------')\n",
    "    run_recommender(TransformerRecommender(train, nlayers=2), metrics, topn)\n",
    "    timer(start)\n",
    "\n",
    "# Run a recommender and evaluate a list of metrics on its output.\n",
    "def run_recommender(recommender, metrics, topn):\n",
    "    print(f'Testing {recommender} (top {topn})')\n",
    "    recommendation = recommender.recommend(topn)\n",
    "    print('Four example recommendations:\\n' + recommendation.display(4))\n",
    "    for metric in metrics:\n",
    "        print(metric, '=', metric.compute(recommendation))\n",
    "\n",
    "from termcolor import colored\n",
    "def timer(start):\n",
    "    print(colored(f'--> elapsed time: {datetime.timedelta(seconds=round(time.time() - start))} <--', 'blue'))\n",
    "    return time.time()\n",
    "    \n",
    "np.random.seed(0)\n",
    "print('=========================\\nTesting MovieLens \\'1 million\\' dataset')\n",
    "test('data/ratings-1m.dat', topn=10, cutoff=10, sep='::')\n",
    "print('=========================\\nDone.')\n",
    "\n",
    "# Additional testing?\n",
    "student_test()"
   ]
  }
 ],
 "metadata": {
  "colab": {
   "collapsed_sections": [],
   "name": "Enunciado P2",
   "provenance": [],
   "toc_visible": true
  },
  "kernelspec": {
   "display_name": ".venv",
   "language": "python",
   "name": "python3"
  },
  "language_info": {
   "codemirror_mode": {
    "name": "ipython",
    "version": 3
   },
   "file_extension": ".py",
   "mimetype": "text/x-python",
   "name": "python",
   "nbconvert_exporter": "python",
   "pygments_lexer": "ipython3",
   "version": "3.11.9"
  }
 },
 "nbformat": 4,
 "nbformat_minor": 4
}
