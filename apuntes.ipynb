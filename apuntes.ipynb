{
 "cells": [
  {
   "cell_type": "markdown",
   "metadata": {},
   "source": [
    "$P = \\frac{TP}{TP+FP}$\n",
    "\n",
    "$R = \\frac{TP}{TP+FN}$\n"
   ]
  },
  {
   "cell_type": "markdown",
   "metadata": {},
   "source": [
    "$P@k = \\frac{TP@k}{k}$\n",
    "\n",
    "$R@k = \\frac{TP@k}{Positives@k}$\n"
   ]
  },
  {
   "cell_type": "markdown",
   "metadata": {},
   "source": []
  }
 ],
 "metadata": {
  "language_info": {
   "name": "python"
  }
 },
 "nbformat": 4,
 "nbformat_minor": 2
}
